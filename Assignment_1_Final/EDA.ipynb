{
 "cells": [
  {
   "cell_type": "markdown",
   "id": "0bab9c68",
   "metadata": {
    "jp-MarkdownHeadingCollapsed": true
   },
   "source": [
    "# Import Libraries + CSVs"
   ]
  },
  {
   "cell_type": "markdown",
   "id": "bf321f0c",
   "metadata": {},
   "source": [
    "## Libraries"
   ]
  },
  {
   "cell_type": "code",
   "execution_count": 3,
   "id": "318a1038",
   "metadata": {},
   "outputs": [],
   "source": [
    "import pandas as pd\n",
    "import matplotlib.pyplot as plt\n",
    "import seaborn as sns\n",
    "import re\n",
    "import numpy as np"
   ]
  },
  {
   "cell_type": "markdown",
   "id": "f7b5a8dd",
   "metadata": {},
   "source": [
    "## CSVs"
   ]
  },
  {
   "cell_type": "code",
   "execution_count": 5,
   "id": "da1c9f91",
   "metadata": {},
   "outputs": [],
   "source": [
    "clickstream_df = pd.read_csv('feature_clickstream.csv')\n",
    "attributes_df = pd.read_csv('features_attributes.csv')\n",
    "financials_df = pd.read_csv('features_financials.csv')\n",
    "loan_daily_df = pd.read_csv('lms_loan_daily.csv')"
   ]
  },
  {
   "cell_type": "markdown",
   "id": "ddc030e3",
   "metadata": {},
   "source": [
    "# Dataframes\n",
    "\n",
    "Take a look at the top 5 rows for an idea of how the data looks like"
   ]
  },
  {
   "cell_type": "markdown",
   "id": "b9492953",
   "metadata": {},
   "source": [
    "## clickstream_df"
   ]
  },
  {
   "cell_type": "code",
   "execution_count": 8,
   "id": "bbf5c01a",
   "metadata": {},
   "outputs": [
    {
     "data": {
      "text/html": [
       "<div>\n",
       "<style scoped>\n",
       "    .dataframe tbody tr th:only-of-type {\n",
       "        vertical-align: middle;\n",
       "    }\n",
       "\n",
       "    .dataframe tbody tr th {\n",
       "        vertical-align: top;\n",
       "    }\n",
       "\n",
       "    .dataframe thead th {\n",
       "        text-align: right;\n",
       "    }\n",
       "</style>\n",
       "<table border=\"1\" class=\"dataframe\">\n",
       "  <thead>\n",
       "    <tr style=\"text-align: right;\">\n",
       "      <th></th>\n",
       "      <th>fe_1</th>\n",
       "      <th>fe_2</th>\n",
       "      <th>fe_3</th>\n",
       "      <th>fe_4</th>\n",
       "      <th>fe_5</th>\n",
       "      <th>fe_6</th>\n",
       "      <th>fe_7</th>\n",
       "      <th>fe_8</th>\n",
       "      <th>fe_9</th>\n",
       "      <th>fe_10</th>\n",
       "      <th>...</th>\n",
       "      <th>fe_13</th>\n",
       "      <th>fe_14</th>\n",
       "      <th>fe_15</th>\n",
       "      <th>fe_16</th>\n",
       "      <th>fe_17</th>\n",
       "      <th>fe_18</th>\n",
       "      <th>fe_19</th>\n",
       "      <th>fe_20</th>\n",
       "      <th>Customer_ID</th>\n",
       "      <th>snapshot_date</th>\n",
       "    </tr>\n",
       "  </thead>\n",
       "  <tbody>\n",
       "    <tr>\n",
       "      <th>0</th>\n",
       "      <td>63</td>\n",
       "      <td>118</td>\n",
       "      <td>80</td>\n",
       "      <td>121</td>\n",
       "      <td>55</td>\n",
       "      <td>193</td>\n",
       "      <td>111</td>\n",
       "      <td>112</td>\n",
       "      <td>-101</td>\n",
       "      <td>83</td>\n",
       "      <td>...</td>\n",
       "      <td>-16</td>\n",
       "      <td>-81</td>\n",
       "      <td>-126</td>\n",
       "      <td>114</td>\n",
       "      <td>35</td>\n",
       "      <td>85</td>\n",
       "      <td>-73</td>\n",
       "      <td>76</td>\n",
       "      <td>CUS_0x1037</td>\n",
       "      <td>2023-01-01</td>\n",
       "    </tr>\n",
       "    <tr>\n",
       "      <th>1</th>\n",
       "      <td>-108</td>\n",
       "      <td>182</td>\n",
       "      <td>123</td>\n",
       "      <td>4</td>\n",
       "      <td>-56</td>\n",
       "      <td>27</td>\n",
       "      <td>25</td>\n",
       "      <td>-6</td>\n",
       "      <td>284</td>\n",
       "      <td>222</td>\n",
       "      <td>...</td>\n",
       "      <td>-14</td>\n",
       "      <td>-96</td>\n",
       "      <td>200</td>\n",
       "      <td>35</td>\n",
       "      <td>130</td>\n",
       "      <td>94</td>\n",
       "      <td>111</td>\n",
       "      <td>75</td>\n",
       "      <td>CUS_0x1069</td>\n",
       "      <td>2023-01-01</td>\n",
       "    </tr>\n",
       "    <tr>\n",
       "      <th>2</th>\n",
       "      <td>-13</td>\n",
       "      <td>8</td>\n",
       "      <td>87</td>\n",
       "      <td>166</td>\n",
       "      <td>214</td>\n",
       "      <td>-98</td>\n",
       "      <td>215</td>\n",
       "      <td>152</td>\n",
       "      <td>129</td>\n",
       "      <td>139</td>\n",
       "      <td>...</td>\n",
       "      <td>26</td>\n",
       "      <td>86</td>\n",
       "      <td>171</td>\n",
       "      <td>125</td>\n",
       "      <td>-130</td>\n",
       "      <td>354</td>\n",
       "      <td>17</td>\n",
       "      <td>302</td>\n",
       "      <td>CUS_0x114a</td>\n",
       "      <td>2023-01-01</td>\n",
       "    </tr>\n",
       "    <tr>\n",
       "      <th>3</th>\n",
       "      <td>-85</td>\n",
       "      <td>45</td>\n",
       "      <td>200</td>\n",
       "      <td>89</td>\n",
       "      <td>128</td>\n",
       "      <td>54</td>\n",
       "      <td>76</td>\n",
       "      <td>51</td>\n",
       "      <td>61</td>\n",
       "      <td>139</td>\n",
       "      <td>...</td>\n",
       "      <td>172</td>\n",
       "      <td>96</td>\n",
       "      <td>174</td>\n",
       "      <td>163</td>\n",
       "      <td>37</td>\n",
       "      <td>207</td>\n",
       "      <td>180</td>\n",
       "      <td>118</td>\n",
       "      <td>CUS_0x1184</td>\n",
       "      <td>2023-01-01</td>\n",
       "    </tr>\n",
       "    <tr>\n",
       "      <th>4</th>\n",
       "      <td>55</td>\n",
       "      <td>120</td>\n",
       "      <td>226</td>\n",
       "      <td>-86</td>\n",
       "      <td>253</td>\n",
       "      <td>97</td>\n",
       "      <td>107</td>\n",
       "      <td>68</td>\n",
       "      <td>103</td>\n",
       "      <td>126</td>\n",
       "      <td>...</td>\n",
       "      <td>76</td>\n",
       "      <td>43</td>\n",
       "      <td>183</td>\n",
       "      <td>159</td>\n",
       "      <td>-26</td>\n",
       "      <td>104</td>\n",
       "      <td>118</td>\n",
       "      <td>184</td>\n",
       "      <td>CUS_0x1297</td>\n",
       "      <td>2023-01-01</td>\n",
       "    </tr>\n",
       "  </tbody>\n",
       "</table>\n",
       "<p>5 rows × 22 columns</p>\n",
       "</div>"
      ],
      "text/plain": [
       "   fe_1  fe_2  fe_3  fe_4  fe_5  fe_6  fe_7  fe_8  fe_9  fe_10  ...  fe_13  \\\n",
       "0    63   118    80   121    55   193   111   112  -101     83  ...    -16   \n",
       "1  -108   182   123     4   -56    27    25    -6   284    222  ...    -14   \n",
       "2   -13     8    87   166   214   -98   215   152   129    139  ...     26   \n",
       "3   -85    45   200    89   128    54    76    51    61    139  ...    172   \n",
       "4    55   120   226   -86   253    97   107    68   103    126  ...     76   \n",
       "\n",
       "   fe_14  fe_15  fe_16  fe_17  fe_18  fe_19  fe_20  Customer_ID  snapshot_date  \n",
       "0    -81   -126    114     35     85    -73     76   CUS_0x1037     2023-01-01  \n",
       "1    -96    200     35    130     94    111     75   CUS_0x1069     2023-01-01  \n",
       "2     86    171    125   -130    354     17    302   CUS_0x114a     2023-01-01  \n",
       "3     96    174    163     37    207    180    118   CUS_0x1184     2023-01-01  \n",
       "4     43    183    159    -26    104    118    184   CUS_0x1297     2023-01-01  \n",
       "\n",
       "[5 rows x 22 columns]"
      ]
     },
     "execution_count": 8,
     "metadata": {},
     "output_type": "execute_result"
    }
   ],
   "source": [
    "clickstream_df.head()"
   ]
  },
  {
   "cell_type": "markdown",
   "id": "b0a3a719",
   "metadata": {},
   "source": [
    "## attributes_df"
   ]
  },
  {
   "cell_type": "code",
   "execution_count": 10,
   "id": "eaed6f98",
   "metadata": {},
   "outputs": [
    {
     "data": {
      "text/html": [
       "<div>\n",
       "<style scoped>\n",
       "    .dataframe tbody tr th:only-of-type {\n",
       "        vertical-align: middle;\n",
       "    }\n",
       "\n",
       "    .dataframe tbody tr th {\n",
       "        vertical-align: top;\n",
       "    }\n",
       "\n",
       "    .dataframe thead th {\n",
       "        text-align: right;\n",
       "    }\n",
       "</style>\n",
       "<table border=\"1\" class=\"dataframe\">\n",
       "  <thead>\n",
       "    <tr style=\"text-align: right;\">\n",
       "      <th></th>\n",
       "      <th>Customer_ID</th>\n",
       "      <th>Name</th>\n",
       "      <th>Age</th>\n",
       "      <th>SSN</th>\n",
       "      <th>Occupation</th>\n",
       "      <th>snapshot_date</th>\n",
       "    </tr>\n",
       "  </thead>\n",
       "  <tbody>\n",
       "    <tr>\n",
       "      <th>0</th>\n",
       "      <td>CUS_0x1000</td>\n",
       "      <td>Alistair Barrf</td>\n",
       "      <td>18</td>\n",
       "      <td>913-74-1218</td>\n",
       "      <td>Lawyer</td>\n",
       "      <td>2023-05-01</td>\n",
       "    </tr>\n",
       "    <tr>\n",
       "      <th>1</th>\n",
       "      <td>CUS_0x1009</td>\n",
       "      <td>Arunah</td>\n",
       "      <td>26</td>\n",
       "      <td>063-67-6938</td>\n",
       "      <td>Mechanic</td>\n",
       "      <td>2025-01-01</td>\n",
       "    </tr>\n",
       "    <tr>\n",
       "      <th>2</th>\n",
       "      <td>CUS_0x100b</td>\n",
       "      <td>Shirboni</td>\n",
       "      <td>19</td>\n",
       "      <td>#F%$D@*&amp;8</td>\n",
       "      <td>Media_Manager</td>\n",
       "      <td>2024-03-01</td>\n",
       "    </tr>\n",
       "    <tr>\n",
       "      <th>3</th>\n",
       "      <td>CUS_0x1011</td>\n",
       "      <td>Schneyerh</td>\n",
       "      <td>44</td>\n",
       "      <td>793-05-8223</td>\n",
       "      <td>Doctor</td>\n",
       "      <td>2023-11-01</td>\n",
       "    </tr>\n",
       "    <tr>\n",
       "      <th>4</th>\n",
       "      <td>CUS_0x1013</td>\n",
       "      <td>Cameront</td>\n",
       "      <td>44</td>\n",
       "      <td>930-49-9615</td>\n",
       "      <td>Mechanic</td>\n",
       "      <td>2023-12-01</td>\n",
       "    </tr>\n",
       "  </tbody>\n",
       "</table>\n",
       "</div>"
      ],
      "text/plain": [
       "  Customer_ID            Name Age          SSN     Occupation snapshot_date\n",
       "0  CUS_0x1000  Alistair Barrf  18  913-74-1218         Lawyer    2023-05-01\n",
       "1  CUS_0x1009          Arunah  26  063-67-6938       Mechanic    2025-01-01\n",
       "2  CUS_0x100b        Shirboni  19    #F%$D@*&8  Media_Manager    2024-03-01\n",
       "3  CUS_0x1011       Schneyerh  44  793-05-8223         Doctor    2023-11-01\n",
       "4  CUS_0x1013        Cameront  44  930-49-9615       Mechanic    2023-12-01"
      ]
     },
     "execution_count": 10,
     "metadata": {},
     "output_type": "execute_result"
    }
   ],
   "source": [
    "attributes_df.head()"
   ]
  },
  {
   "cell_type": "markdown",
   "id": "f9f47d0b",
   "metadata": {},
   "source": [
    "## financials_df"
   ]
  },
  {
   "cell_type": "code",
   "execution_count": 12,
   "id": "962fd4b8",
   "metadata": {},
   "outputs": [
    {
     "data": {
      "text/html": [
       "<div>\n",
       "<style scoped>\n",
       "    .dataframe tbody tr th:only-of-type {\n",
       "        vertical-align: middle;\n",
       "    }\n",
       "\n",
       "    .dataframe tbody tr th {\n",
       "        vertical-align: top;\n",
       "    }\n",
       "\n",
       "    .dataframe thead th {\n",
       "        text-align: right;\n",
       "    }\n",
       "</style>\n",
       "<table border=\"1\" class=\"dataframe\">\n",
       "  <thead>\n",
       "    <tr style=\"text-align: right;\">\n",
       "      <th></th>\n",
       "      <th>Customer_ID</th>\n",
       "      <th>Annual_Income</th>\n",
       "      <th>Monthly_Inhand_Salary</th>\n",
       "      <th>Num_Bank_Accounts</th>\n",
       "      <th>Num_Credit_Card</th>\n",
       "      <th>Interest_Rate</th>\n",
       "      <th>Num_of_Loan</th>\n",
       "      <th>Type_of_Loan</th>\n",
       "      <th>Delay_from_due_date</th>\n",
       "      <th>Num_of_Delayed_Payment</th>\n",
       "      <th>...</th>\n",
       "      <th>Credit_Mix</th>\n",
       "      <th>Outstanding_Debt</th>\n",
       "      <th>Credit_Utilization_Ratio</th>\n",
       "      <th>Credit_History_Age</th>\n",
       "      <th>Payment_of_Min_Amount</th>\n",
       "      <th>Total_EMI_per_month</th>\n",
       "      <th>Amount_invested_monthly</th>\n",
       "      <th>Payment_Behaviour</th>\n",
       "      <th>Monthly_Balance</th>\n",
       "      <th>snapshot_date</th>\n",
       "    </tr>\n",
       "  </thead>\n",
       "  <tbody>\n",
       "    <tr>\n",
       "      <th>0</th>\n",
       "      <td>CUS_0x1000</td>\n",
       "      <td>30625.94</td>\n",
       "      <td>2706.161667</td>\n",
       "      <td>6</td>\n",
       "      <td>5</td>\n",
       "      <td>27</td>\n",
       "      <td>2</td>\n",
       "      <td>Credit-Builder Loan, and Home Equity Loan</td>\n",
       "      <td>57</td>\n",
       "      <td>26</td>\n",
       "      <td>...</td>\n",
       "      <td>Bad</td>\n",
       "      <td>1562.91</td>\n",
       "      <td>30.077191</td>\n",
       "      <td>10 Years and 9 Months</td>\n",
       "      <td>Yes</td>\n",
       "      <td>42.941090</td>\n",
       "      <td>77.31427572208112</td>\n",
       "      <td>High_spent_Medium_value_payments</td>\n",
       "      <td>400.36080052211616</td>\n",
       "      <td>2023-05-01</td>\n",
       "    </tr>\n",
       "    <tr>\n",
       "      <th>1</th>\n",
       "      <td>CUS_0x1009</td>\n",
       "      <td>52312.68_</td>\n",
       "      <td>4250.390000</td>\n",
       "      <td>6</td>\n",
       "      <td>5</td>\n",
       "      <td>17</td>\n",
       "      <td>4</td>\n",
       "      <td>Not Specified, Home Equity Loan, Credit-Builde...</td>\n",
       "      <td>5</td>\n",
       "      <td>18</td>\n",
       "      <td>...</td>\n",
       "      <td>_</td>\n",
       "      <td>202.68</td>\n",
       "      <td>40.286997</td>\n",
       "      <td>31 Years and 0 Months</td>\n",
       "      <td>Yes</td>\n",
       "      <td>108.366467</td>\n",
       "      <td>58.66019164829086</td>\n",
       "      <td>High_spent_Medium_value_payments</td>\n",
       "      <td>508.01234122645366</td>\n",
       "      <td>2025-01-01</td>\n",
       "    </tr>\n",
       "    <tr>\n",
       "      <th>2</th>\n",
       "      <td>CUS_0x100b</td>\n",
       "      <td>113781.38999999998</td>\n",
       "      <td>9549.782500</td>\n",
       "      <td>1</td>\n",
       "      <td>4</td>\n",
       "      <td>1</td>\n",
       "      <td>0</td>\n",
       "      <td>NaN</td>\n",
       "      <td>14</td>\n",
       "      <td>8</td>\n",
       "      <td>...</td>\n",
       "      <td>Good</td>\n",
       "      <td>1030.2</td>\n",
       "      <td>28.592943</td>\n",
       "      <td>15 Years and 10 Months</td>\n",
       "      <td>No</td>\n",
       "      <td>0.000000</td>\n",
       "      <td>617.0792665202719</td>\n",
       "      <td>High_spent_Small_value_payments</td>\n",
       "      <td>597.8989834797281</td>\n",
       "      <td>2024-03-01</td>\n",
       "    </tr>\n",
       "    <tr>\n",
       "      <th>3</th>\n",
       "      <td>CUS_0x1011</td>\n",
       "      <td>58918.47</td>\n",
       "      <td>5208.872500</td>\n",
       "      <td>3</td>\n",
       "      <td>3</td>\n",
       "      <td>17</td>\n",
       "      <td>3</td>\n",
       "      <td>Student Loan, Credit-Builder Loan, and Debt Co...</td>\n",
       "      <td>27</td>\n",
       "      <td>13</td>\n",
       "      <td>...</td>\n",
       "      <td>Standard</td>\n",
       "      <td>473.14</td>\n",
       "      <td>27.829959</td>\n",
       "      <td>15 Years and 10 Months</td>\n",
       "      <td>Yes</td>\n",
       "      <td>123.434939</td>\n",
       "      <td>383.35084463651407</td>\n",
       "      <td>Low_spent_Medium_value_payments</td>\n",
       "      <td>294.1014665671429</td>\n",
       "      <td>2023-11-01</td>\n",
       "    </tr>\n",
       "    <tr>\n",
       "      <th>4</th>\n",
       "      <td>CUS_0x1013</td>\n",
       "      <td>98620.98</td>\n",
       "      <td>7962.415000</td>\n",
       "      <td>3</td>\n",
       "      <td>3</td>\n",
       "      <td>6</td>\n",
       "      <td>3</td>\n",
       "      <td>Student Loan, Debt Consolidation Loan, and Per...</td>\n",
       "      <td>12</td>\n",
       "      <td>9</td>\n",
       "      <td>...</td>\n",
       "      <td>Good</td>\n",
       "      <td>1233.51</td>\n",
       "      <td>26.524864</td>\n",
       "      <td>17 Years and 10 Months</td>\n",
       "      <td>No</td>\n",
       "      <td>228.018084</td>\n",
       "      <td>332.3337079767732</td>\n",
       "      <td>High_spent_Medium_value_payments</td>\n",
       "      <td>485.8897083704929</td>\n",
       "      <td>2023-12-01</td>\n",
       "    </tr>\n",
       "  </tbody>\n",
       "</table>\n",
       "<p>5 rows × 22 columns</p>\n",
       "</div>"
      ],
      "text/plain": [
       "  Customer_ID       Annual_Income  Monthly_Inhand_Salary  Num_Bank_Accounts  \\\n",
       "0  CUS_0x1000            30625.94            2706.161667                  6   \n",
       "1  CUS_0x1009           52312.68_            4250.390000                  6   \n",
       "2  CUS_0x100b  113781.38999999998            9549.782500                  1   \n",
       "3  CUS_0x1011            58918.47            5208.872500                  3   \n",
       "4  CUS_0x1013            98620.98            7962.415000                  3   \n",
       "\n",
       "   Num_Credit_Card  Interest_Rate Num_of_Loan  \\\n",
       "0                5             27           2   \n",
       "1                5             17           4   \n",
       "2                4              1           0   \n",
       "3                3             17           3   \n",
       "4                3              6           3   \n",
       "\n",
       "                                        Type_of_Loan  Delay_from_due_date  \\\n",
       "0          Credit-Builder Loan, and Home Equity Loan                   57   \n",
       "1  Not Specified, Home Equity Loan, Credit-Builde...                    5   \n",
       "2                                                NaN                   14   \n",
       "3  Student Loan, Credit-Builder Loan, and Debt Co...                   27   \n",
       "4  Student Loan, Debt Consolidation Loan, and Per...                   12   \n",
       "\n",
       "  Num_of_Delayed_Payment  ... Credit_Mix  Outstanding_Debt  \\\n",
       "0                     26  ...        Bad           1562.91   \n",
       "1                     18  ...          _            202.68   \n",
       "2                      8  ...       Good            1030.2   \n",
       "3                     13  ...   Standard            473.14   \n",
       "4                      9  ...       Good           1233.51   \n",
       "\n",
       "  Credit_Utilization_Ratio      Credit_History_Age  Payment_of_Min_Amount  \\\n",
       "0                30.077191   10 Years and 9 Months                    Yes   \n",
       "1                40.286997   31 Years and 0 Months                    Yes   \n",
       "2                28.592943  15 Years and 10 Months                     No   \n",
       "3                27.829959  15 Years and 10 Months                    Yes   \n",
       "4                26.524864  17 Years and 10 Months                     No   \n",
       "\n",
       "  Total_EMI_per_month Amount_invested_monthly  \\\n",
       "0           42.941090       77.31427572208112   \n",
       "1          108.366467       58.66019164829086   \n",
       "2            0.000000       617.0792665202719   \n",
       "3          123.434939      383.35084463651407   \n",
       "4          228.018084       332.3337079767732   \n",
       "\n",
       "                  Payment_Behaviour     Monthly_Balance snapshot_date  \n",
       "0  High_spent_Medium_value_payments  400.36080052211616    2023-05-01  \n",
       "1  High_spent_Medium_value_payments  508.01234122645366    2025-01-01  \n",
       "2   High_spent_Small_value_payments   597.8989834797281    2024-03-01  \n",
       "3   Low_spent_Medium_value_payments   294.1014665671429    2023-11-01  \n",
       "4  High_spent_Medium_value_payments   485.8897083704929    2023-12-01  \n",
       "\n",
       "[5 rows x 22 columns]"
      ]
     },
     "execution_count": 12,
     "metadata": {},
     "output_type": "execute_result"
    }
   ],
   "source": [
    "financials_df.head()"
   ]
  },
  {
   "cell_type": "markdown",
   "id": "0d1f58b6",
   "metadata": {},
   "source": [
    "## loan_daily_df"
   ]
  },
  {
   "cell_type": "code",
   "execution_count": 14,
   "id": "07702a4a",
   "metadata": {},
   "outputs": [
    {
     "data": {
      "text/html": [
       "<div>\n",
       "<style scoped>\n",
       "    .dataframe tbody tr th:only-of-type {\n",
       "        vertical-align: middle;\n",
       "    }\n",
       "\n",
       "    .dataframe tbody tr th {\n",
       "        vertical-align: top;\n",
       "    }\n",
       "\n",
       "    .dataframe thead th {\n",
       "        text-align: right;\n",
       "    }\n",
       "</style>\n",
       "<table border=\"1\" class=\"dataframe\">\n",
       "  <thead>\n",
       "    <tr style=\"text-align: right;\">\n",
       "      <th></th>\n",
       "      <th>loan_id</th>\n",
       "      <th>Customer_ID</th>\n",
       "      <th>loan_start_date</th>\n",
       "      <th>tenure</th>\n",
       "      <th>installment_num</th>\n",
       "      <th>loan_amt</th>\n",
       "      <th>due_amt</th>\n",
       "      <th>paid_amt</th>\n",
       "      <th>overdue_amt</th>\n",
       "      <th>balance</th>\n",
       "      <th>snapshot_date</th>\n",
       "    </tr>\n",
       "  </thead>\n",
       "  <tbody>\n",
       "    <tr>\n",
       "      <th>0</th>\n",
       "      <td>CUS_0x1000_2023_05_01</td>\n",
       "      <td>CUS_0x1000</td>\n",
       "      <td>2023-05-01</td>\n",
       "      <td>10</td>\n",
       "      <td>0</td>\n",
       "      <td>10000</td>\n",
       "      <td>0.0</td>\n",
       "      <td>0.0</td>\n",
       "      <td>0.0</td>\n",
       "      <td>10000.0</td>\n",
       "      <td>2023-05-01</td>\n",
       "    </tr>\n",
       "    <tr>\n",
       "      <th>1</th>\n",
       "      <td>CUS_0x1000_2023_05_01</td>\n",
       "      <td>CUS_0x1000</td>\n",
       "      <td>2023-05-01</td>\n",
       "      <td>10</td>\n",
       "      <td>1</td>\n",
       "      <td>10000</td>\n",
       "      <td>1000.0</td>\n",
       "      <td>1000.0</td>\n",
       "      <td>0.0</td>\n",
       "      <td>9000.0</td>\n",
       "      <td>2023-06-01</td>\n",
       "    </tr>\n",
       "    <tr>\n",
       "      <th>2</th>\n",
       "      <td>CUS_0x1000_2023_05_01</td>\n",
       "      <td>CUS_0x1000</td>\n",
       "      <td>2023-05-01</td>\n",
       "      <td>10</td>\n",
       "      <td>2</td>\n",
       "      <td>10000</td>\n",
       "      <td>1000.0</td>\n",
       "      <td>1000.0</td>\n",
       "      <td>0.0</td>\n",
       "      <td>8000.0</td>\n",
       "      <td>2023-07-01</td>\n",
       "    </tr>\n",
       "    <tr>\n",
       "      <th>3</th>\n",
       "      <td>CUS_0x1000_2023_05_01</td>\n",
       "      <td>CUS_0x1000</td>\n",
       "      <td>2023-05-01</td>\n",
       "      <td>10</td>\n",
       "      <td>3</td>\n",
       "      <td>10000</td>\n",
       "      <td>1000.0</td>\n",
       "      <td>0.0</td>\n",
       "      <td>1000.0</td>\n",
       "      <td>8000.0</td>\n",
       "      <td>2023-08-01</td>\n",
       "    </tr>\n",
       "    <tr>\n",
       "      <th>4</th>\n",
       "      <td>CUS_0x1000_2023_05_01</td>\n",
       "      <td>CUS_0x1000</td>\n",
       "      <td>2023-05-01</td>\n",
       "      <td>10</td>\n",
       "      <td>4</td>\n",
       "      <td>10000</td>\n",
       "      <td>1000.0</td>\n",
       "      <td>2000.0</td>\n",
       "      <td>0.0</td>\n",
       "      <td>6000.0</td>\n",
       "      <td>2023-09-01</td>\n",
       "    </tr>\n",
       "  </tbody>\n",
       "</table>\n",
       "</div>"
      ],
      "text/plain": [
       "                 loan_id Customer_ID loan_start_date  tenure  installment_num  \\\n",
       "0  CUS_0x1000_2023_05_01  CUS_0x1000      2023-05-01      10                0   \n",
       "1  CUS_0x1000_2023_05_01  CUS_0x1000      2023-05-01      10                1   \n",
       "2  CUS_0x1000_2023_05_01  CUS_0x1000      2023-05-01      10                2   \n",
       "3  CUS_0x1000_2023_05_01  CUS_0x1000      2023-05-01      10                3   \n",
       "4  CUS_0x1000_2023_05_01  CUS_0x1000      2023-05-01      10                4   \n",
       "\n",
       "   loan_amt  due_amt  paid_amt  overdue_amt  balance snapshot_date  \n",
       "0     10000      0.0       0.0          0.0  10000.0    2023-05-01  \n",
       "1     10000   1000.0    1000.0          0.0   9000.0    2023-06-01  \n",
       "2     10000   1000.0    1000.0          0.0   8000.0    2023-07-01  \n",
       "3     10000   1000.0       0.0       1000.0   8000.0    2023-08-01  \n",
       "4     10000   1000.0    2000.0          0.0   6000.0    2023-09-01  "
      ]
     },
     "execution_count": 14,
     "metadata": {},
     "output_type": "execute_result"
    }
   ],
   "source": [
    "loan_daily_df.head()"
   ]
  },
  {
   "cell_type": "markdown",
   "id": "fc84d277",
   "metadata": {},
   "source": [
    "# Data Pre-Processing"
   ]
  },
  {
   "cell_type": "markdown",
   "id": "7472e5de",
   "metadata": {
    "jp-MarkdownHeadingCollapsed": true
   },
   "source": [
    "## Check for Null values"
   ]
  },
  {
   "cell_type": "code",
   "execution_count": 17,
   "id": "a09d2ab8",
   "metadata": {},
   "outputs": [
    {
     "name": "stdout",
     "output_type": "stream",
     "text": [
      "\n",
      "Missing Values in Clickstream:\n",
      "fe_1             0\n",
      "fe_2             0\n",
      "fe_3             0\n",
      "fe_4             0\n",
      "fe_5             0\n",
      "fe_6             0\n",
      "fe_7             0\n",
      "fe_8             0\n",
      "fe_9             0\n",
      "fe_10            0\n",
      "fe_11            0\n",
      "fe_12            0\n",
      "fe_13            0\n",
      "fe_14            0\n",
      "fe_15            0\n",
      "fe_16            0\n",
      "fe_17            0\n",
      "fe_18            0\n",
      "fe_19            0\n",
      "fe_20            0\n",
      "Customer_ID      0\n",
      "snapshot_date    0\n",
      "dtype: int64\n",
      "\n",
      "Missing Values in Attributes:\n",
      "Customer_ID      0\n",
      "Name             0\n",
      "Age              0\n",
      "SSN              0\n",
      "Occupation       0\n",
      "snapshot_date    0\n",
      "dtype: int64\n",
      "\n",
      "Missing Values in Financials:\n",
      "Customer_ID                    0\n",
      "Annual_Income                  0\n",
      "Monthly_Inhand_Salary          0\n",
      "Num_Bank_Accounts              0\n",
      "Num_Credit_Card                0\n",
      "Interest_Rate                  0\n",
      "Num_of_Loan                    0\n",
      "Type_of_Loan                1426\n",
      "Delay_from_due_date            0\n",
      "Num_of_Delayed_Payment         0\n",
      "Changed_Credit_Limit           0\n",
      "Num_Credit_Inquiries           0\n",
      "Credit_Mix                     0\n",
      "Outstanding_Debt               0\n",
      "Credit_Utilization_Ratio       0\n",
      "Credit_History_Age             0\n",
      "Payment_of_Min_Amount          0\n",
      "Total_EMI_per_month            0\n",
      "Amount_invested_monthly        0\n",
      "Payment_Behaviour              0\n",
      "Monthly_Balance                0\n",
      "snapshot_date                  0\n",
      "dtype: int64\n",
      "\n",
      "Missing Values in Loan:\n",
      "loan_id            0\n",
      "Customer_ID        0\n",
      "loan_start_date    0\n",
      "tenure             0\n",
      "installment_num    0\n",
      "loan_amt           0\n",
      "due_amt            0\n",
      "paid_amt           0\n",
      "overdue_amt        0\n",
      "balance            0\n",
      "snapshot_date      0\n",
      "dtype: int64\n"
     ]
    }
   ],
   "source": [
    "for df, name in zip([clickstream_df, attributes_df, financials_df, loan_daily_df],\n",
    "                    ['Clickstream', 'Attributes', 'Financials', 'Loan']):\n",
    "    print(f\"\\nMissing Values in {name}:\")\n",
    "    print(df.isnull().sum())"
   ]
  },
  {
   "cell_type": "markdown",
   "id": "7445c824",
   "metadata": {},
   "source": [
    "From above, we can see that \"Type_of_Loan\" has a siginificant amount of NULL values in the \"financials_df\" dataframe. We will remove them so as to ensure data integrity and compatibility for accurate analysis and processing."
   ]
  },
  {
   "cell_type": "code",
   "execution_count": 19,
   "id": "8a893d02",
   "metadata": {},
   "outputs": [],
   "source": [
    "## Carry out the removing of rows here ##"
   ]
  },
  {
   "cell_type": "markdown",
   "id": "399728bd",
   "metadata": {},
   "source": [
    "# Individual Dataframe Exploration"
   ]
  },
  {
   "cell_type": "markdown",
   "id": "3461b1da-52c4-4beb-a7d6-3e0ec52089b1",
   "metadata": {
    "jp-MarkdownHeadingCollapsed": true
   },
   "source": [
    "## clickstream_df"
   ]
  },
  {
   "cell_type": "markdown",
   "id": "28909f2f-3dc1-4feb-86e4-8a5de35ecbdf",
   "metadata": {},
   "source": [
    "### fe_1 to fe_20"
   ]
  },
  {
   "cell_type": "code",
   "execution_count": 23,
   "id": "298799a1-2998-4472-bd98-bc975db79362",
   "metadata": {},
   "outputs": [
    {
     "name": "stdout",
     "output_type": "stream",
     "text": [
      "Invalid entry count per column:\n",
      "fe_1     0\n",
      "fe_2     0\n",
      "fe_3     0\n",
      "fe_4     0\n",
      "fe_5     0\n",
      "fe_6     0\n",
      "fe_7     0\n",
      "fe_8     0\n",
      "fe_9     0\n",
      "fe_10    0\n",
      "fe_11    0\n",
      "fe_12    0\n",
      "fe_13    0\n",
      "fe_14    0\n",
      "fe_15    0\n",
      "fe_16    0\n",
      "fe_17    0\n",
      "fe_18    0\n",
      "fe_19    0\n",
      "fe_20    0\n",
      "dtype: int64\n",
      "\n",
      "Total rows with at least one non-integer: 0\n",
      "\n",
      "Sample rows with invalid entries (if any):\n",
      "Empty DataFrame\n",
      "Columns: [fe_1, fe_2, fe_3, fe_4, fe_5, fe_6, fe_7, fe_8, fe_9, fe_10, fe_11, fe_12, fe_13, fe_14, fe_15, fe_16, fe_17, fe_18, fe_19, fe_20]\n",
      "Index: []\n"
     ]
    }
   ],
   "source": [
    "# Step 1: Select only fe_1 to fe_20 columns\n",
    "fe_columns = [f'fe_{i}' for i in range(1, 21)]\n",
    "fe_df = clickstream_df[fe_columns]\n",
    "\n",
    "# Step 2: Check for non-integer values in each column\n",
    "non_integer_mask = ~fe_df.map(lambda x: isinstance(x, int))\n",
    "\n",
    "# Step 3: Identify rows and columns with invalid entries\n",
    "invalid_entries = fe_df[non_integer_mask.any(axis=1)]\n",
    "\n",
    "# Step 4: Count total invalid entries per column\n",
    "invalid_counts = non_integer_mask.sum()\n",
    "\n",
    "# Show results\n",
    "print(\"Invalid entry count per column:\")\n",
    "print(invalid_counts)\n",
    "print(f\"\\nTotal rows with at least one non-integer: {invalid_entries.shape[0]}\")\n",
    "print(\"\\nSample rows with invalid entries (if any):\")\n",
    "print(invalid_entries.head())"
   ]
  },
  {
   "cell_type": "markdown",
   "id": "a174388d-fd7b-441f-8f4e-613f19a5a962",
   "metadata": {},
   "source": [
    "### Customer_ID"
   ]
  },
  {
   "cell_type": "code",
   "execution_count": 25,
   "id": "a9022f76-a022-4750-bafc-03ec0e5df427",
   "metadata": {},
   "outputs": [
    {
     "name": "stdout",
     "output_type": "stream",
     "text": [
      "Total invalid Customer_IDs: 0\n",
      "\n",
      "Sample invalid Customer_IDs:\n",
      "Series([], Name: Customer_ID, dtype: object)\n"
     ]
    }
   ],
   "source": [
    "# Define regex pattern for a valid Customer_ID\n",
    "customer_id_pattern = r'^CUS_0x[0-9a-fA-F]+$'\n",
    "\n",
    "# Apply pattern to validate\n",
    "clickstream_df['Customer_ID_Valid'] = clickstream_df['Customer_ID'].str.match(customer_id_pattern)\n",
    "\n",
    "# Identify invalid Customer_ID entries\n",
    "invalid_customer_ids = clickstream_df[~clickstream_df['Customer_ID_Valid']]\n",
    "\n",
    "# Display results\n",
    "print(f\"Total invalid Customer_IDs: {len(invalid_customer_ids)}\")\n",
    "print(\"\\nSample invalid Customer_IDs:\")\n",
    "print(invalid_customer_ids['Customer_ID'].drop_duplicates().head())"
   ]
  },
  {
   "cell_type": "markdown",
   "id": "ea03a705-828c-4a23-8043-831f981da1c2",
   "metadata": {},
   "source": [
    "### snapshot_date"
   ]
  },
  {
   "cell_type": "code",
   "execution_count": 27,
   "id": "eec56e53-2160-4bb5-b936-2b5757a3ceea",
   "metadata": {},
   "outputs": [
    {
     "name": "stdout",
     "output_type": "stream",
     "text": [
      "Total invalid snapshot_date entries: 0\n",
      "\n",
      "Sample invalid snapshot_date values:\n",
      "Series([], Name: snapshot_date, dtype: object)\n"
     ]
    }
   ],
   "source": [
    "# Define strict pattern: YYYY-MM-DD\n",
    "snapshot_date_pattern = r'^\\d{4}-\\d{2}-\\d{2}$'\n",
    "\n",
    "# Step 1: Validate with regex\n",
    "clickstream_df['Snapshot_Format_Valid'] = clickstream_df['snapshot_date'].str.match(snapshot_date_pattern)\n",
    "\n",
    "# Step 2: Parse valid-looking dates to ensure they're real\n",
    "clickstream_df['snapshot_date_parsed'] = pd.to_datetime(\n",
    "    clickstream_df['snapshot_date'], format='%Y-%m-%d', errors='coerce'\n",
    ")\n",
    "\n",
    "# Step 3: Final check: valid format AND valid date\n",
    "clickstream_df['Snapshot_Date_Valid'] = (\n",
    "    clickstream_df['Snapshot_Format_Valid'] &\n",
    "    clickstream_df['snapshot_date_parsed'].notna()\n",
    ")\n",
    "\n",
    "# Show invalid results\n",
    "invalid_dates_df = clickstream_df[~clickstream_df['Snapshot_Date_Valid']]\n",
    "\n",
    "print(f\"Total invalid snapshot_date entries: {len(invalid_dates_df)}\")\n",
    "print(\"\\nSample invalid snapshot_date values:\")\n",
    "print(invalid_dates_df['snapshot_date'].drop_duplicates().head())"
   ]
  },
  {
   "cell_type": "markdown",
   "id": "e1c75fac",
   "metadata": {
    "jp-MarkdownHeadingCollapsed": true
   },
   "source": [
    "## attributes_df"
   ]
  },
  {
   "cell_type": "markdown",
   "id": "2097680f",
   "metadata": {},
   "source": [
    "### Customer_ID"
   ]
  },
  {
   "cell_type": "code",
   "execution_count": 30,
   "id": "382f4a01",
   "metadata": {},
   "outputs": [
    {
     "name": "stdout",
     "output_type": "stream",
     "text": [
      "Sample of invalid Customer_IDs:\n",
      "Empty DataFrame\n",
      "Columns: [Customer_ID]\n",
      "Index: []\n",
      "\n",
      "Total number of invalid Customer_IDs: 0\n"
     ]
    }
   ],
   "source": [
    "# Check for Customer_IDs that do not match the \"CUS_0x\" pattern\n",
    "invalid_customer_ids = attributes_df[~attributes_df['Customer_ID'].str.match(r'^CUS_0x[0-9a-fA-F]+$')]\n",
    "\n",
    "# Show sample of invalid Customer_IDs\n",
    "invalid_customer_ids_sample = invalid_customer_ids[['Customer_ID']].drop_duplicates().head(10)\n",
    "\n",
    "# Count total number of invalid entries\n",
    "invalid_customer_id_count = invalid_customer_ids['Customer_ID'].nunique()\n",
    "\n",
    "print(\"Sample of invalid Customer_IDs:\")\n",
    "print(invalid_customer_ids_sample)\n",
    "print(f\"\\nTotal number of invalid Customer_IDs: {invalid_customer_id_count}\")"
   ]
  },
  {
   "cell_type": "markdown",
   "id": "9ddce039",
   "metadata": {},
   "source": [
    "From the above code we can be sure that there are no invalid customer IDs present and we can move forward"
   ]
  },
  {
   "cell_type": "markdown",
   "id": "ea0e0f5c",
   "metadata": {
    "jp-MarkdownHeadingCollapsed": true
   },
   "source": [
    "### Name\n",
    "\n",
    "What This Flags as Invalid:\n",
    "- Names with numbers (John123)\n",
    "- Symbols or gibberish (@#!~, Dr., %%_Shane)\n",
    "- Overly short or blank names\n",
    "- Very long strings (likely not real names)"
   ]
  },
  {
   "cell_type": "code",
   "execution_count": 33,
   "id": "6f1ed6d8",
   "metadata": {},
   "outputs": [
    {
     "name": "stdout",
     "output_type": "stream",
     "text": [
      "    Customer_ID        Name\n",
      "12   CUS_0x1038         B.h\n",
      "101  CUS_0x11ac   Liana B.v\n",
      "134  CUS_0x124a         B.d\n",
      "156  CUS_0x129b         N.w\n",
      "173  CUS_0x12dd   Liana B.v\n",
      "203  CUS_0x1354         N.p\n",
      "217  CUS_0x138d  ODonnell\"d\n",
      "286  CUS_0x148e         N.o\n",
      "380  CUS_0x162f    OLeary\"k\n",
      "402  CUS_0x1680  ODonnell\"i\n",
      "\n",
      "Total invalid names: 269\n"
     ]
    }
   ],
   "source": [
    "# Step 1: Basic cleanup\n",
    "attributes_df['Name'] = attributes_df['Name'].astype(str).str.strip()\n",
    "\n",
    "# Step 2: Define validity conditions\n",
    "valid_name_pattern = r\"^[A-Za-z\\s\\-']+$\"\n",
    "is_not_empty = attributes_df['Name'] != ''\n",
    "matches_pattern = attributes_df['Name'].str.match(valid_name_pattern)\n",
    "reasonable_length = attributes_df['Name'].str.len().between(2, 50)\n",
    "\n",
    "# Step 3: Combine all conditions\n",
    "attributes_df['Valid_Name'] = is_not_empty & matches_pattern & reasonable_length\n",
    "\n",
    "# Step 4: Preview invalid names\n",
    "invalid_names_df = attributes_df[~attributes_df['Valid_Name']]\n",
    "print(invalid_names_df[['Customer_ID', 'Name']].head(10))\n",
    "print(f\"\\nTotal invalid names: {len(invalid_names_df)}\")"
   ]
  },
  {
   "cell_type": "markdown",
   "id": "a256686e",
   "metadata": {},
   "source": [
    "However as the names of our customers are not important to use, as long as the data provided is useful we shall move forward. We can likely ignore this column all-together."
   ]
  },
  {
   "cell_type": "markdown",
   "id": "e069dd73",
   "metadata": {},
   "source": [
    "### Age\n",
    "\n",
    "We shall take a look at the age distribution"
   ]
  },
  {
   "cell_type": "code",
   "execution_count": 36,
   "id": "c8c37bcb",
   "metadata": {},
   "outputs": [
    {
     "ename": "ValueError",
     "evalue": "Unable to parse string \"40_\" at position 10",
     "output_type": "error",
     "traceback": [
      "\u001b[1;31m---------------------------------------------------------------------------\u001b[0m",
      "\u001b[1;31mValueError\u001b[0m                                Traceback (most recent call last)",
      "File \u001b[1;32mlib.pyx:2391\u001b[0m, in \u001b[0;36mpandas._libs.lib.maybe_convert_numeric\u001b[1;34m()\u001b[0m\n",
      "\u001b[1;31mValueError\u001b[0m: Unable to parse string \"40_\"",
      "\nDuring handling of the above exception, another exception occurred:\n",
      "\u001b[1;31mValueError\u001b[0m                                Traceback (most recent call last)",
      "Cell \u001b[1;32mIn[36], line 2\u001b[0m\n\u001b[0;32m      1\u001b[0m \u001b[38;5;66;03m# Convert Age to numeric\u001b[39;00m\n\u001b[1;32m----> 2\u001b[0m attributes_df[\u001b[38;5;124m'\u001b[39m\u001b[38;5;124mAge\u001b[39m\u001b[38;5;124m'\u001b[39m] \u001b[38;5;241m=\u001b[39m pd\u001b[38;5;241m.\u001b[39mto_numeric(attributes_df[\u001b[38;5;124m'\u001b[39m\u001b[38;5;124mAge\u001b[39m\u001b[38;5;124m'\u001b[39m])\n\u001b[0;32m      4\u001b[0m \u001b[38;5;66;03m# Plot the distribution of Age\u001b[39;00m\n\u001b[0;32m      5\u001b[0m plt\u001b[38;5;241m.\u001b[39mfigure(figsize\u001b[38;5;241m=\u001b[39m(\u001b[38;5;241m10\u001b[39m, \u001b[38;5;241m6\u001b[39m))\n",
      "File \u001b[1;32m~\\anaconda3\\Lib\\site-packages\\pandas\\core\\tools\\numeric.py:232\u001b[0m, in \u001b[0;36mto_numeric\u001b[1;34m(arg, errors, downcast, dtype_backend)\u001b[0m\n\u001b[0;32m    230\u001b[0m coerce_numeric \u001b[38;5;241m=\u001b[39m errors \u001b[38;5;129;01mnot\u001b[39;00m \u001b[38;5;129;01min\u001b[39;00m (\u001b[38;5;124m\"\u001b[39m\u001b[38;5;124mignore\u001b[39m\u001b[38;5;124m\"\u001b[39m, \u001b[38;5;124m\"\u001b[39m\u001b[38;5;124mraise\u001b[39m\u001b[38;5;124m\"\u001b[39m)\n\u001b[0;32m    231\u001b[0m \u001b[38;5;28;01mtry\u001b[39;00m:\n\u001b[1;32m--> 232\u001b[0m     values, new_mask \u001b[38;5;241m=\u001b[39m lib\u001b[38;5;241m.\u001b[39mmaybe_convert_numeric(  \u001b[38;5;66;03m# type: ignore[call-overload]\u001b[39;00m\n\u001b[0;32m    233\u001b[0m         values,\n\u001b[0;32m    234\u001b[0m         \u001b[38;5;28mset\u001b[39m(),\n\u001b[0;32m    235\u001b[0m         coerce_numeric\u001b[38;5;241m=\u001b[39mcoerce_numeric,\n\u001b[0;32m    236\u001b[0m         convert_to_masked_nullable\u001b[38;5;241m=\u001b[39mdtype_backend \u001b[38;5;129;01mis\u001b[39;00m \u001b[38;5;129;01mnot\u001b[39;00m lib\u001b[38;5;241m.\u001b[39mno_default\n\u001b[0;32m    237\u001b[0m         \u001b[38;5;129;01mor\u001b[39;00m \u001b[38;5;28misinstance\u001b[39m(values_dtype, StringDtype)\n\u001b[0;32m    238\u001b[0m         \u001b[38;5;129;01mand\u001b[39;00m \u001b[38;5;129;01mnot\u001b[39;00m values_dtype\u001b[38;5;241m.\u001b[39mstorage \u001b[38;5;241m==\u001b[39m \u001b[38;5;124m\"\u001b[39m\u001b[38;5;124mpyarrow_numpy\u001b[39m\u001b[38;5;124m\"\u001b[39m,\n\u001b[0;32m    239\u001b[0m     )\n\u001b[0;32m    240\u001b[0m \u001b[38;5;28;01mexcept\u001b[39;00m (\u001b[38;5;167;01mValueError\u001b[39;00m, \u001b[38;5;167;01mTypeError\u001b[39;00m):\n\u001b[0;32m    241\u001b[0m     \u001b[38;5;28;01mif\u001b[39;00m errors \u001b[38;5;241m==\u001b[39m \u001b[38;5;124m\"\u001b[39m\u001b[38;5;124mraise\u001b[39m\u001b[38;5;124m\"\u001b[39m:\n",
      "File \u001b[1;32mlib.pyx:2433\u001b[0m, in \u001b[0;36mpandas._libs.lib.maybe_convert_numeric\u001b[1;34m()\u001b[0m\n",
      "\u001b[1;31mValueError\u001b[0m: Unable to parse string \"40_\" at position 10"
     ]
    }
   ],
   "source": [
    "# Convert Age to numeric\n",
    "attributes_df['Age'] = pd.to_numeric(attributes_df['Age'])\n",
    "\n",
    "# Plot the distribution of Age\n",
    "plt.figure(figsize=(10, 6))\n",
    "sns.histplot(attributes_df['Age'].dropna(), bins=30, kde=True, color='slateblue')\n",
    "plt.title('Distribution of Age')\n",
    "plt.xlabel('Age')\n",
    "plt.ylabel('Number of Customers')\n",
    "plt.grid(True)\n",
    "plt.tight_layout()\n",
    "plt.show()"
   ]
  },
  {
   "cell_type": "markdown",
   "id": "00b0463e",
   "metadata": {},
   "source": [
    "We encounter an error showing as that some of the ages are not just numericals, we shall fix those first.\n",
    "\n",
    "We shall create a few buckets to take a look at the different age ranges available as well."
   ]
  },
  {
   "cell_type": "code",
   "execution_count": 49,
   "id": "db585988",
   "metadata": {},
   "outputs": [
    {
     "name": "stdout",
     "output_type": "stream",
     "text": [
      "   Customer_ID    Age  Age_numeric Age_Group\n",
      "6   CUS_0x1018     15         15.0   Invalid\n",
      "10  CUS_0x1032    40_          NaN   Invalid\n",
      "14  CUS_0x1041     15         15.0   Invalid\n",
      "22  CUS_0x1057    46_          NaN   Invalid\n",
      "29  CUS_0x107c     15         15.0   Invalid\n",
      "30  CUS_0x107e     15         15.0   Invalid\n",
      "50  CUS_0x10e7  3843_          NaN   Invalid\n",
      "52  CUS_0x10ee    30_          NaN   Invalid\n",
      "62  CUS_0x111c    24_          NaN   Invalid\n",
      "63  CUS_0x1123     15         15.0   Invalid\n"
     ]
    }
   ],
   "source": [
    "# Reload original dataset\n",
    "attributes_raw_df = pd.read_csv('features_attributes.csv')\n",
    "\n",
    "# Keep raw 'Age' as string\n",
    "attributes_raw_df['Age'] = attributes_raw_df['Age'].astype(str)\n",
    "\n",
    "# Convert Age to numeric for bucketing\n",
    "attributes_df = attributes_raw_df.copy()\n",
    "attributes_df['Age_numeric'] = pd.to_numeric(attributes_df['Age'], errors='coerce')\n",
    "\n",
    "# Define bins and labels\n",
    "bins = [17, 25, 35, 45, 55, 65, 75, float('inf')]\n",
    "labels = ['18-25', '26-35', '36-45', '46-55', '56-65', '66-75', '76+']\n",
    "\n",
    "# Bucket ages and assign 'Invalid' to anything that doesn't fit\n",
    "attributes_df['Age_Group'] = pd.cut(attributes_df['Age_numeric'], bins=bins, labels=labels)\n",
    "attributes_df['Age_Group'] = attributes_df['Age_Group'].astype('category').cat.add_categories('Invalid')\n",
    "attributes_df['Age_Group'] = attributes_df['Age_Group'].fillna('Invalid')  # Changed line\n",
    "\n",
    "# Filter and preview rows with invalid age group\n",
    "invalid_age_rows = attributes_df[attributes_df['Age_Group'] == 'Invalid']\n",
    "print(invalid_age_rows[['Customer_ID', 'Age', 'Age_numeric', 'Age_Group']].head(10))"
   ]
  },
  {
   "cell_type": "markdown",
   "id": "dc75c277",
   "metadata": {},
   "source": [
    "From above we can see that there seem to be some customers who are younger than the legal age of 18 and the rest are age values with an _ connected to them causing the error. So we shall clean those up first then carry out the categorisation once again."
   ]
  },
  {
   "cell_type": "code",
   "execution_count": 51,
   "id": "3ce3e675",
   "metadata": {},
   "outputs": [
    {
     "data": {
      "text/plain": [
       "0"
      ]
     },
     "execution_count": 51,
     "metadata": {},
     "output_type": "execute_result"
    }
   ],
   "source": [
    "# Reload original dataset\n",
    "attributes_df = pd.read_csv('features_attributes.csv')\n",
    "\n",
    "# Step 1: Clean Age column (remove any underscores and convert to numeric)\n",
    "attributes_df['Age'] = attributes_df['Age'].astype(str).str.replace('_', '', regex=False)\n",
    "attributes_df['Age'] = pd.to_numeric(attributes_df['Age'], errors='coerce')\n",
    "\n",
    "# Step 2: Convert Age to integer (drop NaNs before conversion to avoid errors)\n",
    "attributes_df['Age'] = attributes_df['Age'].dropna().astype(int)\n",
    "\n",
    "# Step 3: Recheck for missing values in Age column\n",
    "missing_ages_after_cleaning = attributes_df['Age'].isna().sum()\n",
    "\n",
    "missing_ages_after_cleaning"
   ]
  },
  {
   "cell_type": "markdown",
   "id": "d48a323f-7ef6-46ed-812d-2b2aa900fc3f",
   "metadata": {},
   "source": [
    "Here is how the age distribution looks like !!! MAKE GRAPH NICER !!!"
   ]
  },
  {
   "cell_type": "code",
   "execution_count": 53,
   "id": "c084e9e4",
   "metadata": {},
   "outputs": [
    {
     "data": {
      "image/png": "[encoded data removed]",
      "text/plain": [
       "<Figure size 1000x600 with 1 Axes>"
      ]
     },
     "metadata": {},
     "output_type": "display_data"
    }
   ],
   "source": [
    "# Define new bins and labels including \"Below 18\"\n",
    "bins = [0, 17, 25, 35, 45, 55, 65, 75, float('inf')]\n",
    "labels = ['<18', '18-25', '26-35', '36-45', '46-55', '56-65', '66-75', '76+']\n",
    "\n",
    "# Recreate age groups using cleaned integer Age values\n",
    "attributes_df['Age_Group'] = pd.cut(attributes_df['Age'], bins=bins, labels=labels, right=True)\n",
    "\n",
    "# Plot the updated age group distribution\n",
    "import matplotlib.pyplot as plt\n",
    "import seaborn as sns\n",
    "\n",
    "plt.figure(figsize=(10, 6))\n",
    "ax = sns.countplot(data=attributes_df, x='Age_Group', hue='Age_Group', order=labels, palette='Set2')\n",
    "plt.title('Customer Distribution by Age Group (Updated with <18)')\n",
    "plt.xlabel('Age Group')\n",
    "plt.ylabel('Number of Customers')\n",
    "plt.grid(True, axis='y')\n",
    "\n",
    "# Annotate the bar counts\n",
    "age_group_counts = attributes_df['Age_Group'].value_counts().reindex(labels)\n",
    "for i, count in enumerate(age_group_counts):\n",
    "    ax.text(i, count + 10, str(count), ha='center', va='bottom', fontweight='bold')\n",
    "\n",
    "plt.tight_layout()\n",
    "plt.show()\n",
    "\n",
    "# # Define new bins and labels including \"Below 18\"\n",
    "# bins = [0, 17, 25, 35, 45, 55, 65, 75, float('inf')]\n",
    "# labels = ['<18', '18-25', '26-35', '36-45', '46-55', '56-65', '66-75', '76+']\n",
    "\n",
    "# # Recreate age groups using cleaned integer Age values\n",
    "# attributes_df['Age_Group'] = pd.cut(attributes_df['Age'], bins=bins, labels=labels, right=True)\n",
    "\n",
    "# # Plot the updated age group distribution\n",
    "# plt.figure(figsize=(10, 6))\n",
    "# ax = sns.countplot(\n",
    "#     data=attributes_df,\n",
    "#     x='Age_Group',\n",
    "#     hue='Age_Group',  # Added this\n",
    "#     order=labels,\n",
    "#     palette='Set2',\n",
    "#     legend=False # Added this to suppress redundant legend\n",
    "# )\n",
    "# plt.title('Customer Distribution by Age Group (Updated with <18)')\n",
    "# plt.xlabel('Age Group')\n",
    "# plt.ylabel('Number of Customers')\n",
    "# plt.grid(True, axis='y')\n",
    "\n",
    "# # Annotate the bar counts\n",
    "# age_group_counts = attributes_df['Age_Group'].value_counts().reindex(labels)\n",
    "# for i, count in enumerate(age_group_counts):\n",
    "#     ax.text(i, count + 10, str(count), ha='center', va='bottom', fontweight='bold')\n",
    "\n",
    "# plt.tight_layout()\n",
    "# plt.show()"
   ]
  },
  {
   "cell_type": "markdown",
   "id": "470b4991",
   "metadata": {},
   "source": [
    "From the graph above we can remove anybody in the age group of \"<18\", \"76+\" and \"66-75\" as we can infer that the age limit to acquire a loan would be between 18 and 65 years old by the financial institution"
   ]
  },
  {
   "cell_type": "code",
   "execution_count": 55,
   "id": "f120b531",
   "metadata": {},
   "outputs": [],
   "source": [
    "## Carry out the removing and re-draw the distribution to showcase the cleaning ##"
   ]
  },
  {
   "cell_type": "markdown",
   "id": "4076abe2",
   "metadata": {},
   "source": [
    "### SSN\n",
    "\n",
    "We would like to ensure all the Social Security Numbers are valid. Upon first glance above from the .head() done on attributes_df, we can already see an invalid case."
   ]
  },
  {
   "cell_type": "code",
   "execution_count": 57,
   "id": "80d90fbb",
   "metadata": {},
   "outputs": [
    {
     "data": {
      "text/plain": [
       "SSN_Valid\n",
       "Valid      11797\n",
       "Invalid      703\n",
       "Name: count, dtype: int64"
      ]
     },
     "execution_count": 57,
     "metadata": {},
     "output_type": "execute_result"
    }
   ],
   "source": [
    "import re\n",
    "# Define SSN validation pattern: format \"XXX-XX-XXXX\" where X is a digit\n",
    "valid_ssn_pattern = re.compile(r'^\\d{3}-\\d{2}-\\d{4}$')\n",
    "\n",
    "# Create a boolean mask for valid SSNs\n",
    "attributes_df['SSN_Valid'] = attributes_df['SSN'].apply(lambda x: bool(valid_ssn_pattern.match(str(x))))\n",
    "\n",
    "# Count valid and invalid SSNs\n",
    "ssn_counts = attributes_df['SSN_Valid'].value_counts().rename(index={True: 'Valid', False: 'Invalid'})\n",
    "\n",
    "ssn_counts"
   ]
  },
  {
   "cell_type": "markdown",
   "id": "5bd37645",
   "metadata": {},
   "source": [
    "Let us remove the invalid rows and then continue."
   ]
  },
  {
   "cell_type": "code",
   "execution_count": 59,
   "id": "7bacd8e4",
   "metadata": {},
   "outputs": [],
   "source": [
    "## Remove Invalid Row Code ##"
   ]
  },
  {
   "cell_type": "markdown",
   "id": "4f3c65c1",
   "metadata": {},
   "source": [
    "### Occupation\n",
    "\n",
    "Take a look at various occupations"
   ]
  },
  {
   "cell_type": "code",
   "execution_count": 61,
   "id": "5f14cad6",
   "metadata": {},
   "outputs": [
    {
     "name": "stdout",
     "output_type": "stream",
     "text": [
      "       Occupation  Count\n",
      "0         _______    880\n",
      "1          Lawyer    828\n",
      "2       Architect    795\n",
      "3        Engineer    793\n",
      "4      Accountant    791\n",
      "5       Scientist    789\n",
      "6         Teacher    782\n",
      "7        Mechanic    780\n",
      "8   Media_Manager    780\n",
      "9       Developer    780\n",
      "10   Entrepreneur    776\n",
      "11     Journalist    761\n",
      "12         Doctor    760\n",
      "13       Musician    741\n",
      "14        Manager    736\n",
      "15         Writer    728\n"
     ]
    }
   ],
   "source": [
    "# Count unique occupations\n",
    "occupation_counts = attributes_df['Occupation'].value_counts(dropna=False).reset_index()\n",
    "occupation_counts.columns = ['Occupation', 'Count']\n",
    "\n",
    "# Display the table\n",
    "print(occupation_counts)"
   ]
  },
  {
   "cell_type": "markdown",
   "id": "17a8c1bf",
   "metadata": {},
   "source": [
    "Let's take a look at some rows with occupations as \"______\""
   ]
  },
  {
   "cell_type": "code",
   "execution_count": 63,
   "id": "139bf033",
   "metadata": {},
   "outputs": [
    {
     "name": "stdout",
     "output_type": "stream",
     "text": [
      "    Customer_ID               Name   Age          SSN Occupation  \\\n",
      "15   CUS_0x1044      Maki Shirakip    44    #F%$D@*&8    _______   \n",
      "19   CUS_0x104f              Markm    20  264-84-8069    _______   \n",
      "34   CUS_0x1098             Krudyz    23  466-10-5742    _______   \n",
      "45   CUS_0x10c5              Moony    24  041-74-6785    _______   \n",
      "50   CUS_0x10e7             Carewj  3843  094-89-6380    _______   \n",
      "53   CUS_0x10f9  Gilles Guillaumev    54  746-79-6875    _______   \n",
      "67   CUS_0x1130         Elizabethr    37  846-60-3664    _______   \n",
      "91   CUS_0x1183            Barlyna    22  972-42-3182    _______   \n",
      "98   CUS_0x1197             Nayako    28  799-23-8283    _______   \n",
      "103  CUS_0x11b1             Browne    28  347-47-6952    _______   \n",
      "\n",
      "    snapshot_date Age_Group  SSN_Valid  \n",
      "15     2023-06-01     36-45      False  \n",
      "19     2024-10-01     18-25       True  \n",
      "34     2025-01-01     18-25       True  \n",
      "45     2024-08-01     18-25       True  \n",
      "50     2024-11-01       76+       True  \n",
      "53     2023-05-01     46-55       True  \n",
      "67     2023-07-01     36-45       True  \n",
      "91     2024-04-01     18-25       True  \n",
      "98     2024-12-01     26-35       True  \n",
      "103    2023-05-01     26-35       True  \n"
     ]
    }
   ],
   "source": [
    "# Filter rows with unknown occupation\n",
    "unknown_jobs_df = attributes_df[attributes_df['Occupation'] == '_______']\n",
    "\n",
    "# Show the first 10 such rows\n",
    "print(unknown_jobs_df.head(10))"
   ]
  },
  {
   "cell_type": "markdown",
   "id": "c8c50b2b",
   "metadata": {},
   "source": [
    "We shall remove any customer with an invalid occupation as it may affect our findings down the road OR \n",
    "\n",
    "We shall keep these customers information however if there is any analysis requiring a customers occupation, they shall be excluded"
   ]
  },
  {
   "cell_type": "markdown",
   "id": "6bfa97c8",
   "metadata": {},
   "source": [
    "### Snapshot_date\n",
    "\n",
    "Just to ensure all the snapshot dates are valid"
   ]
  },
  {
   "cell_type": "code",
   "execution_count": 66,
   "id": "2341a043",
   "metadata": {},
   "outputs": [
    {
     "name": "stdout",
     "output_type": "stream",
     "text": [
      "Sample of invalid snapshot_date entries:\n",
      "Empty DataFrame\n",
      "Columns: [Customer_ID, snapshot_date]\n",
      "Index: []\n",
      "\n",
      "Total number of invalid snapshot_date values: 0\n"
     ]
    }
   ],
   "source": [
    "# Try converting snapshot_date to datetime\n",
    "attributes_df['snapshot_date_parsed'] = pd.to_datetime(attributes_df['snapshot_date'], errors='coerce')\n",
    "\n",
    "# Find rows where the date couldn't be parsed\n",
    "invalid_dates_df = attributes_df[attributes_df['snapshot_date_parsed'].isna()]\n",
    "\n",
    "# Count of invalid snapshot dates\n",
    "invalid_snapshot_date_count = invalid_dates_df.shape[0]\n",
    "\n",
    "# Show sample invalid rows\n",
    "invalid_snapshot_date_sample = invalid_dates_df[['Customer_ID', 'snapshot_date']].head(10)\n",
    "\n",
    "print(\"Sample of invalid snapshot_date entries:\")\n",
    "print(invalid_snapshot_date_sample)\n",
    "print(f\"\\nTotal number of invalid snapshot_date values: {invalid_snapshot_date_count}\")"
   ]
  },
  {
   "cell_type": "markdown",
   "id": "e8ebcc8e-6758-4337-8e7b-9ee3214d6d09",
   "metadata": {},
   "source": [
    "## loan_daily_df"
   ]
  },
  {
   "cell_type": "markdown",
   "id": "6214fb8f-1390-47c1-8a6c-cb106c2219ff",
   "metadata": {},
   "source": [
    "### loan_id\n",
    "\n",
    "Check for validity of every value"
   ]
  },
  {
   "cell_type": "code",
   "execution_count": 69,
   "id": "1abac2ba-1e2a-4594-9527-3c8b94782dd7",
   "metadata": {},
   "outputs": [
    {
     "name": "stdout",
     "output_type": "stream",
     "text": [
      "Sample of invalid loan_id entries:\n",
      "Empty DataFrame\n",
      "Columns: [loan_id]\n",
      "Index: []\n",
      "\n",
      "Total number of invalid loan_id values: 0\n"
     ]
    }
   ],
   "source": [
    "# Define pattern: CUS_0x[hex]_YYYY_MM_DD\n",
    "loan_id_pattern = r'^CUS_0x[0-9a-fA-F]+_\\d{4}_\\d{2}_\\d{2}$'\n",
    "\n",
    "# Apply regex match to classify valid loan_id entries\n",
    "loan_daily_df['loan_id_valid'] = loan_daily_df['loan_id'].str.match(loan_id_pattern)\n",
    "\n",
    "# Extract invalid loan_id entries\n",
    "invalid_loan_ids = loan_daily_df[~loan_daily_df['loan_id_valid']]\n",
    "\n",
    "# Count of invalid loan_ids\n",
    "invalid_loan_id_count = invalid_loan_ids.shape[0]\n",
    "\n",
    "# Display sample\n",
    "invalid_loan_id_sample = invalid_loan_ids[['loan_id']].drop_duplicates().head(10)\n",
    "\n",
    "print(\"Sample of invalid loan_id entries:\")\n",
    "print(invalid_loan_id_sample)\n",
    "print(f\"\\nTotal number of invalid loan_id values: {invalid_loan_id_count}\")"
   ]
  },
  {
   "cell_type": "markdown",
   "id": "55699a54-6903-4e0b-9a69-d207a371153f",
   "metadata": {},
   "source": [
    "We shall move on to the next column as all rows are valid."
   ]
  },
  {
   "cell_type": "markdown",
   "id": "f8e58f05-749f-4531-b79c-dd5a4d32323d",
   "metadata": {},
   "source": [
    "### customer_id\n",
    "\n",
    "Check for validity of every values"
   ]
  },
  {
   "cell_type": "code",
   "execution_count": 72,
   "id": "0b4f88da-0e3a-428f-acc1-55acbf3edef8",
   "metadata": {},
   "outputs": [
    {
     "name": "stdout",
     "output_type": "stream",
     "text": [
      "Sample of invalid Customer_IDs:\n",
      "Empty DataFrame\n",
      "Columns: [Customer_ID]\n",
      "Index: []\n",
      "\n",
      "Total number of invalid Customer_IDs: 0\n"
     ]
    }
   ],
   "source": [
    "# Check for Customer_IDs in loan_daily_df that do not match the \"CUS_0x\" pattern\n",
    "mask = loan_daily_df['Customer_ID'].str.match(r'^CUS_0x[0-9a-fA-F]+$', na=False)\n",
    "invalid_customer_ids = loan_daily_df[~mask]  # Directly filter loan_daily_df\n",
    "\n",
    "# Show sample of invalid Customer_IDs\n",
    "invalid_customer_ids_sample = invalid_customer_ids[['Customer_ID']].drop_duplicates().head(10)\n",
    "\n",
    "# Count total number of invalid entries\n",
    "invalid_customer_id_count = invalid_customer_ids['Customer_ID'].nunique()\n",
    "\n",
    "print(\"Sample of invalid Customer_IDs:\")\n",
    "print(invalid_customer_ids_sample)\n",
    "print(f\"\\nTotal number of invalid Customer_IDs: {invalid_customer_id_count}\")"
   ]
  },
  {
   "cell_type": "markdown",
   "id": "53f01fbe-650f-4728-9734-3847ef94734f",
   "metadata": {},
   "source": [
    "We shall move on to the next column as all rows are valid."
   ]
  },
  {
   "cell_type": "markdown",
   "id": "e8fa73d1-4f59-4eb7-9f9e-7f7dfeecbc96",
   "metadata": {},
   "source": [
    "### loan_start_date\n",
    "\n",
    "Check for validity of every values"
   ]
  },
  {
   "cell_type": "code",
   "execution_count": 75,
   "id": "09ea70fe-a946-4a3f-aeff-52ab81fa6bae",
   "metadata": {},
   "outputs": [
    {
     "name": "stdout",
     "output_type": "stream",
     "text": [
      "All loan_start_date values follow YYYY-MM-DD format\n"
     ]
    }
   ],
   "source": [
    "# Check for valid YYYY-MM-DD format\n",
    "valid_format_mask = pd.to_datetime(\n",
    "    loan_daily_df['loan_start_date'], \n",
    "    format='%Y-%m-%d', \n",
    "    errors='coerce'\n",
    ").notna()\n",
    "\n",
    "invalid_dates = loan_daily_df[~valid_format_mask]\n",
    "\n",
    "# Generate report\n",
    "if not invalid_dates.empty:\n",
    "    print(f\"Found {len(invalid_dates)} invalid date format entries:\")\n",
    "    print(\"Sample of invalid entries:\")\n",
    "    \n",
    "    # Show original value and parsing attempt\n",
    "    sample = invalid_dates['loan_start_date'].drop_duplicates().head(10).to_frame()\n",
    "    sample['parse_attempt'] = pd.to_datetime(\n",
    "        sample['loan_start_date'], \n",
    "        errors='coerce'\n",
    "    )\n",
    "    print(sample)\n",
    "    \n",
    "    print(\"\\nCommon invalid patterns:\")\n",
    "    print(sample['loan_start_date'].value_counts().head(5))\n",
    "else:\n",
    "    print(\"All loan_start_date values follow YYYY-MM-DD format\")"
   ]
  },
  {
   "cell_type": "markdown",
   "id": "ed4717e9-3d5d-4931-be6c-4a97d157d22f",
   "metadata": {},
   "source": [
    "### tenure"
   ]
  },
  {
   "cell_type": "code",
   "execution_count": 77,
   "id": "6ee6f85e-076d-4f53-96c3-63c1dfeec4f6",
   "metadata": {},
   "outputs": [
    {
     "name": "stdout",
     "output_type": "stream",
     "text": [
      "All tenure values are valid integers\n"
     ]
    }
   ],
   "source": [
    "# Check if all tenure values are valid integers\n",
    "is_integer_mask = loan_daily_df['tenure'].apply(lambda x: \n",
    "    (isinstance(x, (int, np.integer)) or  # Check for integer types\n",
    "    (isinstance(x, float) and x.is_integer()))  # Check for whole number floats\n",
    ")\n",
    "\n",
    "invalid_tenure = loan_daily_df[~is_integer_mask]\n",
    "\n",
    "if not invalid_tenure.empty:\n",
    "    print(f\"Found {len(invalid_tenure)} non-integer tenure values:\")\n",
    "    print(\"Sample invalid entries:\")\n",
    "    print(invalid_tenure[['tenure']].head(10))\n",
    "    print(f\"\\nUnique invalid values: {invalid_tenure['tenure'].unique()}\")\n",
    "else:\n",
    "    print(\"All tenure values are valid integers\")\n",
    "    \n",
    "if loan_daily_df['tenure'].dtype == 'float64':\n",
    "    loan_daily_df['tenure'] = loan_daily_df['tenure'].astype('Int64')"
   ]
  },
  {
   "cell_type": "markdown",
   "id": "a26b1f2f-05db-4a9a-aacc-18fd5d991177",
   "metadata": {},
   "source": [
    "### installment_num"
   ]
  },
  {
   "cell_type": "code",
   "execution_count": 79,
   "id": "267d3bf5-910e-4ca4-b998-c4c7c8b366aa",
   "metadata": {},
   "outputs": [
    {
     "name": "stdout",
     "output_type": "stream",
     "text": [
      "All installment_num values are valid integers\n"
     ]
    }
   ],
   "source": [
    "# Check if all installment_num values are valid integers\n",
    "is_integer_mask = loan_daily_df['installment_num'].apply(\n",
    "    lambda x: (\n",
    "        isinstance(x, (int, np.integer)) or  # Native integer types\n",
    "        (isinstance(x, float) and x.is_integer()))  # Whole number floats\n",
    ")\n",
    "\n",
    "invalid_installments = loan_daily_df[~is_integer_mask]\n",
    "\n",
    "if not invalid_installments.empty:\n",
    "    print(f\"Found {len(invalid_installments)} non-integer installment numbers:\")\n",
    "    print(\"Sample invalid entries:\")\n",
    "    print(invalid_installments[['installment_num']].head(10))\n",
    "    print(f\"\\nUnique invalid values: {invalid_installments['installment_num'].unique()}\")\n",
    "else:\n",
    "    print(\"All installment_num values are valid integers\")\n",
    "\n",
    "# Convert to Int64\n",
    "if loan_daily_df['installment_num'].dtype == 'float64':\n",
    "    loan_daily_df['installment_num'] = loan_daily_df['installment_num'].astype('Int64')"
   ]
  },
  {
   "cell_type": "markdown",
   "id": "15cf0204-4d05-4ffd-9100-6ee0cd5ab8dc",
   "metadata": {},
   "source": [
    "### loan_amt"
   ]
  },
  {
   "cell_type": "code",
   "execution_count": 81,
   "id": "06667f5d-831d-416d-b4d8-230e15fcd708",
   "metadata": {},
   "outputs": [
    {
     "name": "stdout",
     "output_type": "stream",
     "text": [
      "All loan_amt values are valid numeric values (integer/float)\n"
     ]
    }
   ],
   "source": [
    "import pandas as pd\n",
    "\n",
    "# Check if values are numeric (int/float) or convertible to numeric\n",
    "numeric_mask = pd.to_numeric(loan_daily_df['loan_amt'], errors='coerce').notna()\n",
    "invalid_loan_amt = loan_daily_df[~numeric_mask]\n",
    "\n",
    "# Generate report\n",
    "if not invalid_loan_amt.empty:\n",
    "    print(f\"Found {len(invalid_loan_amt)} invalid loan amounts:\")\n",
    "    print(\"Sample invalid entries:\")\n",
    "    print(invalid_loan_amt[['loan_amt']].head(10))\n",
    "    print(f\"\\nUnique invalid values: {invalid_loan_amt['loan_amt'].unique()}\")\n",
    "else:\n",
    "    print(\"All loan_amt values are valid numeric values (integer/float)\")\n",
    "\n",
    "# Optional: Convert column to numeric type\n",
    "loan_daily_df['loan_amt'] = pd.to_numeric(loan_daily_df['loan_amt'], errors='coerce')"
   ]
  },
  {
   "cell_type": "markdown",
   "id": "201e779f-9abe-46bd-b60c-714c01e9cfb7",
   "metadata": {},
   "source": [
    "### due_amt"
   ]
  },
  {
   "cell_type": "code",
   "execution_count": 83,
   "id": "06a79796-62de-4378-b824-e61527c99b64",
   "metadata": {},
   "outputs": [
    {
     "name": "stdout",
     "output_type": "stream",
     "text": [
      "All 'due_amt' values are valid numbers\n",
      "\n"
     ]
    }
   ],
   "source": [
    "due_amt_mask = pd.to_numeric(loan_daily_df['due_amt'], errors='coerce').notna()\n",
    "invalid_due_amt = loan_daily_df[~due_amt_mask]\n",
    "\n",
    "if not invalid_due_amt.empty:\n",
    "    print(f\"Invalid 'due_amt' entries ({len(invalid_due_amt)} found):\")\n",
    "    print(\"Sample:\", invalid_due_amt[['due_amt']].head(5))\n",
    "    print(f\"Unique invalid values: {invalid_due_amt['due_amt'].unique()}\\n\")\n",
    "else:\n",
    "    print(\"All 'due_amt' values are valid numbers\\n\")\n",
    "\n",
    "loan_daily_df['due_amt'] = pd.to_numeric(loan_daily_df['due_amt'], errors='coerce')"
   ]
  },
  {
   "cell_type": "markdown",
   "id": "a3c9e450-c594-459a-a588-34e6a666c3e6",
   "metadata": {},
   "source": [
    "### paid_amt"
   ]
  },
  {
   "cell_type": "code",
   "execution_count": 85,
   "id": "1b9dbf65-ecad-41bb-82e5-c72f4d416ca1",
   "metadata": {},
   "outputs": [
    {
     "name": "stdout",
     "output_type": "stream",
     "text": [
      "All 'paid_amt' values are valid numbers\n",
      "\n"
     ]
    }
   ],
   "source": [
    "paid_amt_mask = pd.to_numeric(loan_daily_df['paid_amt'], errors='coerce').notna()\n",
    "invalid_paid_amt = loan_daily_df[~paid_amt_mask]\n",
    "\n",
    "if not invalid_paid_amt.empty:\n",
    "    print(f\"Invalid 'paid_amt' entries ({len(invalid_paid_amt)} found):\")\n",
    "    print(\"Sample:\", invalid_paid_amt[['paid_amt']].head(5))\n",
    "    print(f\"Unique invalid values: {invalid_paid_amt['paid_amt'].unique()}\\n\")\n",
    "else:\n",
    "    print(\"All 'paid_amt' values are valid numbers\\n\")\n",
    "\n",
    "loan_daily_df['paid_amt'] = pd.to_numeric(loan_daily_df['paid_amt'], errors='coerce')"
   ]
  },
  {
   "cell_type": "markdown",
   "id": "1b57aa51-06a7-4f66-9df5-6a8118002544",
   "metadata": {},
   "source": [
    "### overdue_amt"
   ]
  },
  {
   "cell_type": "code",
   "execution_count": 87,
   "id": "4e1fbbe6-a230-4558-a9ed-2b7fb766c5b4",
   "metadata": {},
   "outputs": [
    {
     "name": "stdout",
     "output_type": "stream",
     "text": [
      "All 'overdue_amt' values are valid numbers\n",
      "\n"
     ]
    }
   ],
   "source": [
    "overdue_amt_mask = pd.to_numeric(loan_daily_df['overdue_amt'], errors='coerce').notna()\n",
    "invalid_overdue_amt = loan_daily_df[~overdue_amt_mask]\n",
    "\n",
    "if not invalid_overdue_amt.empty:\n",
    "    print(f\"Invalid 'overdue_amt' entries ({len(invalid_overdue_amt)} found):\")\n",
    "    print(\"Sample:\", invalid_overdue_amt[['overdue_amt']].head(5))\n",
    "    print(f\"Unique invalid values: {invalid_overdue_amt['overdue_amt'].unique()}\\n\")\n",
    "else:\n",
    "    print(\"All 'overdue_amt' values are valid numbers\\n\")\n",
    "\n",
    "loan_daily_df['overdue_amt'] = pd.to_numeric(loan_daily_df['overdue_amt'], errors='coerce')"
   ]
  },
  {
   "cell_type": "markdown",
   "id": "796f2279-df4b-462e-a726-e64b92068f12",
   "metadata": {},
   "source": [
    "### balance"
   ]
  },
  {
   "cell_type": "code",
   "execution_count": 89,
   "id": "e9989d5b-c69d-435b-9688-eff2d17fdd42",
   "metadata": {},
   "outputs": [
    {
     "name": "stdout",
     "output_type": "stream",
     "text": [
      "All 'balance' values are valid numbers\n"
     ]
    }
   ],
   "source": [
    "balance_mask = pd.to_numeric(loan_daily_df['balance'], errors='coerce').notna()\n",
    "invalid_balance = loan_daily_df[~balance_mask]\n",
    "\n",
    "if not invalid_balance.empty:\n",
    "    print(f\"Invalid 'balance' entries ({len(invalid_balance)} found):\")\n",
    "    print(\"Sample:\", invalid_balance[['balance']].head(5))\n",
    "    print(f\"Unique invalid values: {invalid_balance['balance'].unique()}\\n\")\n",
    "else:\n",
    "    print(\"All 'balance' values are valid numbers\")\n",
    "\n",
    "loan_daily_df['balance'] = pd.to_numeric(loan_daily_df['balance'], errors='coerce')"
   ]
  },
  {
   "cell_type": "markdown",
   "id": "84f53d61-9c76-4f4a-8077-a4b1387f67ea",
   "metadata": {},
   "source": [
    "### snapshot_date"
   ]
  },
  {
   "cell_type": "code",
   "execution_count": 91,
   "id": "f195608c-5d37-4efb-ac3c-c420e8d8de9d",
   "metadata": {},
   "outputs": [
    {
     "name": "stdout",
     "output_type": "stream",
     "text": [
      "All snapshot_date values follow YYYY-MM-DD format\n"
     ]
    }
   ],
   "source": [
    "# Validate snapshot_date format (YYYY-MM-DD)\n",
    "snapshot_format_mask = pd.to_datetime(\n",
    "    loan_daily_df['snapshot_date'], \n",
    "    format='%Y-%m-%d', \n",
    "    errors='coerce'\n",
    ").notna()\n",
    "\n",
    "invalid_snapshot_dates = loan_daily_df[~snapshot_format_mask]\n",
    "\n",
    "if not invalid_snapshot_dates.empty:\n",
    "    print(f\"Found {len(invalid_snapshot_dates)} invalid snapshot dates:\")\n",
    "    print(\"Sample invalid entries (Original | Parsed Attempt | Reason):\")\n",
    "    \n",
    "    # Create sample display\n",
    "    sample = invalid_snapshot_dates[['snapshot_date']].copy().head(10)\n",
    "    sample['parse_attempt'] = pd.to_datetime(\n",
    "        sample['snapshot_date'], \n",
    "        errors='coerce'\n",
    "    )\n",
    "    sample['reason'] = np.where(\n",
    "        sample['parse_attempt'].isna(),\n",
    "        'Invalid Format',\n",
    "        'Valid Format but Invalid Date'\n",
    "    )\n",
    "    \n",
    "    print(sample)\n",
    "    \n",
    "    print(\"\\nCommon invalid patterns:\")\n",
    "    print(invalid_snapshot_dates['snapshot_date'].value_counts().head(5))\n",
    "else:\n",
    "    print(\"All snapshot_date values follow YYYY-MM-DD format\")\n",
    "\n",
    "# Convert valid dates to datetime type\n",
    "loan_daily_df['snapshot_date'] = pd.to_datetime(\n",
    "    loan_daily_df['snapshot_date'], \n",
    "    format='%Y-%m-%d',\n",
    "    errors='coerce'\n",
    ")"
   ]
  },
  {
   "cell_type": "markdown",
   "id": "b0fa8a22-605e-49d1-a99c-e6797efeed83",
   "metadata": {
    "jp-MarkdownHeadingCollapsed": true
   },
   "source": [
    "## financials_df"
   ]
  },
  {
   "cell_type": "markdown",
   "id": "529efa0e-52cf-4a55-bc16-9555b2374734",
   "metadata": {
    "jp-MarkdownHeadingCollapsed": true
   },
   "source": [
    "### Integer Columns Check\n",
    "The following columns are checked for validity:\n",
    "- Num_Bank_Accounts           \n",
    "- Num_Credit_Card             \n",
    "- Interest_Rate               \n",
    "- Num_of_Loan               \n",
    "- Delay_from_due_date        \n",
    "- Num_of_Delayed_Payment    "
   ]
  },
  {
   "cell_type": "code",
   "execution_count": 94,
   "id": "922747e3-5c4d-4a58-8277-c12ddcae10e9",
   "metadata": {},
   "outputs": [
    {
     "name": "stdout",
     "output_type": "stream",
     "text": [
      "Invalid entry count per column:\n",
      "Num_Bank_Accounts           0\n",
      "Num_Credit_Card             0\n",
      "Interest_Rate               0\n",
      "Num_of_Loan               623\n",
      "Delay_from_due_date         0\n",
      "Num_of_Delayed_Payment    374\n",
      "dtype: int64\n",
      "\n",
      "Total rows with at least one invalid entry: 986\n",
      "\n",
      "Sample invalid rows:\n",
      "    Num_Bank_Accounts  Num_Credit_Card  Interest_Rate  Num_of_Loan  \\\n",
      "13                  4                6              9          NaN   \n",
      "29                  7               10             27          NaN   \n",
      "44                  8                5             23          NaN   \n",
      "48                  4                8             23          3.0   \n",
      "51                  4                7             10          NaN   \n",
      "\n",
      "    Delay_from_due_date  Num_of_Delayed_Payment  \n",
      "13                    6                    17.0  \n",
      "29                   27                    17.0  \n",
      "44                   59                    23.0  \n",
      "48                   16                     NaN  \n",
      "51                    8                     8.0  \n"
     ]
    }
   ],
   "source": [
    "# Define integer columns to validate (excluding Num_Credit_Inquiries for now)\n",
    "int_columns = [\n",
    "    'Num_Bank_Accounts',\n",
    "    'Num_Credit_Card',\n",
    "    'Interest_Rate',\n",
    "    'Num_of_Loan',\n",
    "    'Delay_from_due_date',\n",
    "    'Num_of_Delayed_Payment'\n",
    "]\n",
    "\n",
    "# Convert columns to numeric\n",
    "for col in int_columns:\n",
    "    financials_df[col] = pd.to_numeric(financials_df[col], errors='coerce')\n",
    "\n",
    "# Mask to check valid positive integers (NaN-safe)\n",
    "valid_int_positive = financials_df[int_columns].map(\n",
    "    lambda x: pd.notna(x) and isinstance(x, (int, float)) and x == int(x)\n",
    ")\n",
    "\n",
    "# Invert to flag invalid entries\n",
    "invalid_mask = ~valid_int_positive\n",
    "invalid_rows = financials_df[invalid_mask.any(axis=1)]\n",
    "\n",
    "# Show summary\n",
    "print(\"Invalid entry count per column:\")\n",
    "print(invalid_mask.sum())\n",
    "print(f\"\\nTotal rows with at least one invalid entry: {len(invalid_rows)}\")\n",
    "print(\"\\nSample invalid rows:\")\n",
    "print(invalid_rows[int_columns].head())"
   ]
  },
  {
   "cell_type": "markdown",
   "id": "b2742104-1285-4570-ae37-a034f2544066",
   "metadata": {},
   "source": [
    "Remove any rows with NaN values present \n",
    "\n",
    "OR \n",
    "\n",
    "we assume the NaN are 0 and just make the changes (Prob the better options)"
   ]
  },
  {
   "cell_type": "code",
   "execution_count": 96,
   "id": "2cf60e1b-e5b5-4e0b-be80-13aff14c74f5",
   "metadata": {},
   "outputs": [],
   "source": [
    "## Carry out the removing here ##"
   ]
  },
  {
   "cell_type": "markdown",
   "id": "232aac38-8854-4ad3-9439-b86e3a44e258",
   "metadata": {
    "jp-MarkdownHeadingCollapsed": true
   },
   "source": [
    "### Customer_ID"
   ]
  },
  {
   "cell_type": "code",
   "execution_count": 98,
   "id": "6274e4d6-fb6e-4cc4-8a8c-7c308bc5fde5",
   "metadata": {},
   "outputs": [
    {
     "name": "stdout",
     "output_type": "stream",
     "text": [
      "Total invalid Customer_IDs: 0\n",
      "\n",
      "Sample invalid Customer_IDs:\n",
      "Series([], Name: Customer_ID, dtype: object)\n"
     ]
    }
   ],
   "source": [
    "# Define the pattern: must start with 'CUS_0x' followed by hex characters\n",
    "customer_id_pattern = r'^CUS_0x[0-9a-fA-F]+$'\n",
    "\n",
    "# Apply regex check\n",
    "financials_df['Customer_ID_Valid'] = financials_df['Customer_ID'].str.match(customer_id_pattern)\n",
    "\n",
    "# Extract invalid rows\n",
    "invalid_customer_ids = financials_df[~financials_df['Customer_ID_Valid']]\n",
    "\n",
    "# Show result\n",
    "print(f\"Total invalid Customer_IDs: {len(invalid_customer_ids)}\")\n",
    "print(\"\\nSample invalid Customer_IDs:\")\n",
    "print(invalid_customer_ids['Customer_ID'].drop_duplicates().head())"
   ]
  },
  {
   "cell_type": "markdown",
   "id": "eda56f1d-6870-4937-ad0b-531b7da50174",
   "metadata": {
    "jp-MarkdownHeadingCollapsed": true
   },
   "source": [
    "### Annual_Income "
   ]
  },
  {
   "cell_type": "code",
   "execution_count": 100,
   "id": "e2d6e85e-46c6-4aae-8bb4-e307c4d685dc",
   "metadata": {},
   "outputs": [
    {
     "name": "stdout",
     "output_type": "stream",
     "text": [
      "Total entries with invalid symbols in Annual_Income: 859\n",
      "\n",
      "Sample invalid entries:\n",
      "   Customer_ID Annual_Income\n",
      "1   CUS_0x1009     52312.68_\n",
      "29  CUS_0x107c     49718.55_\n",
      "34  CUS_0x1098     20652.98_\n",
      "51  CUS_0x10eb     28315.95_\n",
      "56  CUS_0x1100     43062.54_\n"
     ]
    }
   ],
   "source": [
    "# Step 1: Convert to string and check for any unwanted symbols\n",
    "# We allow digits and exactly one optional dot\n",
    "invalid_symbols_mask = ~financials_df['Annual_Income'].astype(str).str.match(r'^\\d+(\\.\\d+)?$')\n",
    "\n",
    "# Step 2: Attempt to convert to float\n",
    "financials_df['Annual_Income_Clean'] = pd.to_numeric(financials_df['Annual_Income'], errors='coerce')\n",
    "\n",
    "# Step 3: Round all clean values to 2 decimal places\n",
    "financials_df['Annual_Income_Clean'] = financials_df['Annual_Income_Clean'].round(2)\n",
    "\n",
    "# Step 4: Filter only rows with invalid characters\n",
    "invalid_annual_income = financials_df[invalid_symbols_mask]\n",
    "\n",
    "# Step 5: Show results\n",
    "print(f\"Total entries with invalid symbols in Annual_Income: {len(invalid_annual_income)}\")\n",
    "print(\"\\nSample invalid entries:\")\n",
    "print(invalid_annual_income[['Customer_ID', 'Annual_Income']].head())"
   ]
  },
  {
   "cell_type": "markdown",
   "id": "87df2cc3-29ac-48c1-bd94-e347f5553497",
   "metadata": {},
   "source": [
    "Let's remove the \"_\" and keep the values themselves!"
   ]
  },
  {
   "cell_type": "code",
   "execution_count": 102,
   "id": "f38e786a-a1ef-4bc1-8ec9-a12737e2835d",
   "metadata": {},
   "outputs": [],
   "source": [
    "## Add in code to remove _ ##"
   ]
  },
  {
   "cell_type": "markdown",
   "id": "b0044172-70d6-4e59-a649-6097daa4bd75",
   "metadata": {
    "jp-MarkdownHeadingCollapsed": true
   },
   "source": [
    "### Monthly_Inhand_Salary "
   ]
  },
  {
   "cell_type": "code",
   "execution_count": 104,
   "id": "7becd5b8-4656-4c8d-aef3-e30d68095f38",
   "metadata": {},
   "outputs": [
    {
     "name": "stdout",
     "output_type": "stream",
     "text": [
      "Total entries with invalid symbols in Monthly_Inhand_Salary: 0\n",
      "\n",
      "Sample invalid entries:\n",
      "Empty DataFrame\n",
      "Columns: [Customer_ID, Monthly_Inhand_Salary]\n",
      "Index: []\n"
     ]
    }
   ],
   "source": [
    "# Step 1: Identify invalid symbols (anything except digits and at most one dot)\n",
    "invalid_symbols_mask = ~financials_df['Monthly_Inhand_Salary'].astype(str).str.match(r'^\\d+(\\.\\d+)?$')\n",
    "\n",
    "# Step 2: Convert to float and round to 2 decimal places\n",
    "financials_df['Monthly_Inhand_Salary'] = pd.to_numeric(financials_df['Monthly_Inhand_Salary'], errors='coerce')\n",
    "financials_df['Monthly_Inhand_Salary'] = financials_df['Monthly_Inhand_Salary'].round(2)\n",
    "\n",
    "# Step 3: Filter out rows with invalid symbols\n",
    "invalid_salary_rows = financials_df[invalid_symbols_mask]\n",
    "\n",
    "# Step 4: Display results\n",
    "print(f\"Total entries with invalid symbols in Monthly_Inhand_Salary: {len(invalid_salary_rows)}\")\n",
    "print(\"\\nSample invalid entries:\")\n",
    "print(invalid_salary_rows[['Customer_ID', 'Monthly_Inhand_Salary']].head())"
   ]
  },
  {
   "cell_type": "markdown",
   "id": "d07b4b19-5fc2-4cdb-8f9b-488ee226b4f3",
   "metadata": {
    "jp-MarkdownHeadingCollapsed": true
   },
   "source": [
    "### Num_Bank_Accounts "
   ]
  },
  {
   "cell_type": "code",
   "execution_count": null,
   "id": "839ab24d-088e-4f6d-93ea-37bc960c769e",
   "metadata": {},
   "outputs": [],
   "source": []
  },
  {
   "cell_type": "markdown",
   "id": "91be00a9-0008-4973-ab31-2c5a104f5ed7",
   "metadata": {
    "jp-MarkdownHeadingCollapsed": true
   },
   "source": [
    "### Num_Credit_Card "
   ]
  },
  {
   "cell_type": "code",
   "execution_count": null,
   "id": "de9c7323-85d7-45ab-916a-01e31b6f21d7",
   "metadata": {},
   "outputs": [],
   "source": []
  },
  {
   "cell_type": "markdown",
   "id": "947ef7fc-e25c-4076-96b7-43f6e4fbfc23",
   "metadata": {
    "jp-MarkdownHeadingCollapsed": true
   },
   "source": [
    "### Interest_Rate "
   ]
  },
  {
   "cell_type": "code",
   "execution_count": null,
   "id": "e185bbba-5a60-447a-b228-6fb54cdef010",
   "metadata": {},
   "outputs": [],
   "source": []
  },
  {
   "cell_type": "markdown",
   "id": "74b05b30-8797-45ad-a88b-ee665c9f92f4",
   "metadata": {
    "jp-MarkdownHeadingCollapsed": true
   },
   "source": [
    "### Num_of_Loan "
   ]
  },
  {
   "cell_type": "code",
   "execution_count": null,
   "id": "7bad75bb-cc75-48b1-b596-1a2e6a137503",
   "metadata": {},
   "outputs": [],
   "source": []
  },
  {
   "cell_type": "markdown",
   "id": "65a165c1-dd7d-401a-91de-a881ab2a36ef",
   "metadata": {
    "jp-MarkdownHeadingCollapsed": true
   },
   "source": [
    "### Type_of_Loan"
   ]
  },
  {
   "cell_type": "code",
   "execution_count": 110,
   "id": "6dd9276a-f898-454c-b6e2-f91701088fff",
   "metadata": {},
   "outputs": [
    {
     "name": "stdout",
     "output_type": "stream",
     "text": [
      "Total invalid Type_of_Loan entries: 10\n",
      "\n",
      "Sample invalid rows:\n",
      "     Customer_ID  Num_of_Loan Type_of_Loan\n",
      "2691  CUS_0x3a85        439.0          NaN\n",
      "3424  CUS_0x44e0        103.0          NaN\n",
      "3568  CUS_0x470c        999.0          NaN\n",
      "3686   CUS_0x48a         18.0          NaN\n",
      "8241  CUS_0x8b5b       1430.0          NaN\n"
     ]
    }
   ],
   "source": [
    "# Convert Num_of_Loan to numeric for comparison\n",
    "financials_df['Num_of_Loan'] = pd.to_numeric(financials_df['Num_of_Loan'], errors='coerce')\n",
    "\n",
    "# Condition 1: Num_of_Loan > 0 but Type_of_Loan is null or empty\n",
    "condition_1 = (financials_df['Num_of_Loan'] > 0) & (\n",
    "    financials_df['Type_of_Loan'].isna() | financials_df['Type_of_Loan'].astype(str).str.strip().eq('')\n",
    ")\n",
    "\n",
    "# Condition 2: Num_of_Loan == 0 but Type_of_Loan is NOT null\n",
    "condition_2 = (financials_df['Num_of_Loan'] == 0) & (\n",
    "    financials_df['Type_of_Loan'].notna() & ~financials_df['Type_of_Loan'].astype(str).str.strip().eq('')\n",
    ")\n",
    "\n",
    "# Combine both invalid conditions\n",
    "invalid_loan_type_mask = condition_1 | condition_2\n",
    "invalid_loan_type_rows = financials_df[invalid_loan_type_mask]\n",
    "\n",
    "# Show results\n",
    "print(f\"Total invalid Type_of_Loan entries: {len(invalid_loan_type_rows)}\")\n",
    "print(\"\\nSample invalid rows:\")\n",
    "print(invalid_loan_type_rows[['Customer_ID', 'Num_of_Loan', 'Type_of_Loan']].head())"
   ]
  },
  {
   "cell_type": "markdown",
   "id": "efdabbef-e380-4245-bec1-4928b4f97bc9",
   "metadata": {},
   "source": [
    "Remove any invalid entries"
   ]
  },
  {
   "cell_type": "code",
   "execution_count": 112,
   "id": "a1c984e6-c461-4108-b1a0-5dddd62f9025",
   "metadata": {},
   "outputs": [],
   "source": [
    "## Code to remove invalid entries ##"
   ]
  },
  {
   "cell_type": "markdown",
   "id": "67043372-6c0e-47ef-8156-a1cb2dc13987",
   "metadata": {
    "jp-MarkdownHeadingCollapsed": true
   },
   "source": [
    "### Delay_from_due_date"
   ]
  },
  {
   "cell_type": "code",
   "execution_count": null,
   "id": "7c060e44-eaf3-48aa-be3e-88c980af316b",
   "metadata": {},
   "outputs": [],
   "source": []
  },
  {
   "cell_type": "markdown",
   "id": "fe66c871-55a1-4e75-89a3-541d72ecfa3b",
   "metadata": {
    "jp-MarkdownHeadingCollapsed": true
   },
   "source": [
    "### Num_of_Delayed_Payment"
   ]
  },
  {
   "cell_type": "code",
   "execution_count": null,
   "id": "f5df821d-55fd-40d8-9dfb-7637db2b957e",
   "metadata": {},
   "outputs": [],
   "source": []
  },
  {
   "cell_type": "markdown",
   "id": "a0b80692-fb53-4cc1-b2c3-a61a7deda19a",
   "metadata": {
    "jp-MarkdownHeadingCollapsed": true
   },
   "source": [
    "### Changed_Credit_Limit"
   ]
  },
  {
   "cell_type": "code",
   "execution_count": 116,
   "id": "80664e5f-8786-452b-b2d6-07b94e8c5980",
   "metadata": {},
   "outputs": [
    {
     "name": "stdout",
     "output_type": "stream",
     "text": [
      "Total entries with invalid symbols in Changed_Credit_Limit: 458\n",
      "\n",
      "Sample invalid entries:\n",
      "    Customer_ID  Changed_Credit_Limit\n",
      "20   CUS_0x1051                   NaN\n",
      "55   CUS_0x10ff                   NaN\n",
      "71   CUS_0x1136                   NaN\n",
      "127  CUS_0x1233                   NaN\n",
      "194  CUS_0x133b                 -1.64\n"
     ]
    }
   ],
   "source": [
    "# Step 1: Identify values with invalid symbols (not purely numeric with at most one dot)\n",
    "invalid_symbols_mask = ~financials_df['Changed_Credit_Limit'].astype(str).str.match(r'^\\d+(\\.\\d+)?$')\n",
    "\n",
    "# Step 2: Convert to float and round to 2 decimal places\n",
    "financials_df['Changed_Credit_Limit'] = pd.to_numeric(financials_df['Changed_Credit_Limit'], errors='coerce')\n",
    "financials_df['Changed_Credit_Limit'] = financials_df['Changed_Credit_Limit'].round(2)\n",
    "\n",
    "# Step 3: Extract invalid rows\n",
    "invalid_credit_limit_rows = financials_df[invalid_symbols_mask]\n",
    "\n",
    "# Step 4: Display results\n",
    "print(f\"Total entries with invalid symbols in Changed_Credit_Limit: {len(invalid_credit_limit_rows)}\")\n",
    "print(\"\\nSample invalid entries:\")\n",
    "print(invalid_credit_limit_rows[['Customer_ID', 'Changed_Credit_Limit']].head())"
   ]
  },
  {
   "cell_type": "markdown",
   "id": "659f8aaf-1bfa-42b8-a18d-d8f8d2e9856c",
   "metadata": {},
   "source": [
    "Consider keeping NaN as there just maybe no changes to the limit but remove any negative values"
   ]
  },
  {
   "cell_type": "code",
   "execution_count": 118,
   "id": "9d3a08c2-dc5f-4a28-8374-b826d7caa7ad",
   "metadata": {},
   "outputs": [],
   "source": [
    "## Carry out the above ##"
   ]
  },
  {
   "cell_type": "markdown",
   "id": "362b6949-e587-48de-b0cd-1251278223df",
   "metadata": {
    "jp-MarkdownHeadingCollapsed": true
   },
   "source": [
    "### Num_Credit_Inquiries\n",
    "\n",
    "Is currently in \"float\", can be changed to integer"
   ]
  },
  {
   "cell_type": "code",
   "execution_count": 120,
   "id": "a666411d-4191-4142-8553-18b9c27db82c",
   "metadata": {},
   "outputs": [
    {
     "name": "stdout",
     "output_type": "stream",
     "text": [
      "Total invalid Num_Credit_Inquiries values: 0\n",
      "\n",
      "Sample invalid rows:\n",
      "Empty DataFrame\n",
      "Columns: [Customer_ID, Num_Credit_Inquiries]\n",
      "Index: []\n"
     ]
    }
   ],
   "source": [
    "# Step 1: Convert to numeric (in case of string values)\n",
    "financials_df['Num_Credit_Inquiries'] = pd.to_numeric(financials_df['Num_Credit_Inquiries'], errors='coerce')\n",
    "\n",
    "# Step 2: Check for valid positive integers\n",
    "valid_inquiries_mask = financials_df['Num_Credit_Inquiries'].apply(\n",
    "    lambda x: pd.notna(x) and isinstance(x, (int, float)) and x == int(x)\n",
    ")\n",
    "\n",
    "# Step 3: Filter out invalid rows\n",
    "invalid_inquiries = financials_df[~valid_inquiries_mask]\n",
    "\n",
    "# Display results\n",
    "print(f\"Total invalid Num_Credit_Inquiries values: {len(invalid_inquiries)}\")\n",
    "print(\"\\nSample invalid rows:\")\n",
    "print(invalid_inquiries[['Customer_ID', 'Num_Credit_Inquiries']].head())"
   ]
  },
  {
   "cell_type": "markdown",
   "id": "b2509804-6fdb-4e72-9727-4395a8728f08",
   "metadata": {
    "jp-MarkdownHeadingCollapsed": true
   },
   "source": [
    "### Credit_Mix - Think about it more"
   ]
  },
  {
   "cell_type": "code",
   "execution_count": null,
   "id": "036d9043-af25-44f9-97fe-3b016f70486c",
   "metadata": {},
   "outputs": [],
   "source": []
  },
  {
   "cell_type": "markdown",
   "id": "e8e4fa05-8758-4840-b255-a5c9fc13c235",
   "metadata": {
    "jp-MarkdownHeadingCollapsed": true
   },
   "source": [
    "### Outstanding_Debt "
   ]
  },
  {
   "cell_type": "code",
   "execution_count": 123,
   "id": "1df1a6fa-1ee7-4239-b952-c69765a9e364",
   "metadata": {},
   "outputs": [
    {
     "name": "stdout",
     "output_type": "stream",
     "text": [
      "Cleaned Outstanding_Debt sample:\n",
      "  Customer_ID  Outstanding_Debt\n",
      "0  CUS_0x1000           1562.91\n",
      "1  CUS_0x1009            202.68\n",
      "2  CUS_0x100b           1030.20\n",
      "3  CUS_0x1011            473.14\n",
      "4  CUS_0x1013           1233.51\n"
     ]
    }
   ],
   "source": [
    "# Step 1: Remove ALL non-numeric and non-dot characters AFTER a valid numeric part\n",
    "cleaned_str = financials_df['Outstanding_Debt'].astype(str).str.replace(r'[^\\d.]', '', regex=True)\n",
    "\n",
    "# Step 2: Convert cleaned string to float\n",
    "financials_df['Outstanding_Debt'] = pd.to_numeric(cleaned_str, errors='coerce').round(2)\n",
    "\n",
    "# Step 3: Fill any NaN with 0.0 (only truly invalid values)\n",
    "financials_df['Outstanding_Debt'] = financials_df['Outstanding_Debt'].fillna(0)\n",
    "\n",
    "# Step 4: Show confirmation\n",
    "print(\"Cleaned Outstanding_Debt sample:\")\n",
    "print(financials_df[['Customer_ID', 'Outstanding_Debt']].head())"
   ]
  },
  {
   "cell_type": "markdown",
   "id": "52ecf57f-b5b5-4269-ae3a-d6ac2656d8c5",
   "metadata": {
    "jp-MarkdownHeadingCollapsed": true
   },
   "source": [
    "### Credit_Utilization_Ratio "
   ]
  },
  {
   "cell_type": "code",
   "execution_count": 125,
   "id": "78b82767-82e7-423c-a2b4-b293e4f59d49",
   "metadata": {},
   "outputs": [
    {
     "name": "stdout",
     "output_type": "stream",
     "text": [
      "Total invalid Credit_Utilization_Ratio entries: 0\n",
      "\n",
      "Sample invalid entries:\n",
      "Empty DataFrame\n",
      "Columns: [Customer_ID, Credit_Utilization_Ratio]\n",
      "Index: []\n"
     ]
    }
   ],
   "source": [
    "# Step 1: Check for invalid symbols (should contain only digits and one dot)\n",
    "invalid_symbols_mask = ~financials_df['Credit_Utilization_Ratio'].astype(str).str.match(r'^\\d+(\\.\\d+)?$')\n",
    "\n",
    "# Step 2: Convert to float (clean valid ones), fill NaN with 0\n",
    "financials_df['Credit_Utilization_Ratio'] = pd.to_numeric(\n",
    "    financials_df['Credit_Utilization_Ratio'], errors='coerce'\n",
    ").fillna(0).round(4)\n",
    "\n",
    "# Step 3: Flag negative values\n",
    "negative_mask = financials_df['Credit_Utilization_Ratio'] < 0\n",
    "\n",
    "# Step 4: Combine all invalid conditions\n",
    "combined_invalid_mask = invalid_symbols_mask | negative_mask\n",
    "invalid_rows = financials_df[combined_invalid_mask]\n",
    "\n",
    "# Step 5: Show result\n",
    "print(f\"Total invalid Credit_Utilization_Ratio entries: {len(invalid_rows)}\")\n",
    "print(\"\\nSample invalid entries:\")\n",
    "print(invalid_rows[['Customer_ID', 'Credit_Utilization_Ratio']].head())"
   ]
  },
  {
   "cell_type": "markdown",
   "id": "ab187ead-3e0a-4863-a950-1af8149acaa2",
   "metadata": {
    "jp-MarkdownHeadingCollapsed": true
   },
   "source": [
    "### Credit_History_Age - Split Years and Month?"
   ]
  },
  {
   "cell_type": "code",
   "execution_count": null,
   "id": "328d5d32-13b5-4d59-a8c2-388836465ead",
   "metadata": {},
   "outputs": [],
   "source": []
  },
  {
   "cell_type": "markdown",
   "id": "260f7d17-0dd3-4ece-8f49-0e44a13b52d3",
   "metadata": {
    "jp-MarkdownHeadingCollapsed": true
   },
   "source": [
    "### Payment_of_Min_Amount"
   ]
  },
  {
   "cell_type": "code",
   "execution_count": 128,
   "id": "bef3253c-c939-4ef4-ae95-52fb58147dbf",
   "metadata": {},
   "outputs": [
    {
     "name": "stdout",
     "output_type": "stream",
     "text": [
      "Distribution of Payment_of_Min_Amount (cleaned):\n",
      "Payment_of_Min_Amount_Cleaned\n",
      "Yes    6571\n",
      "No     4491\n",
      "NM     1438\n",
      "Name: count, dtype: int64\n"
     ]
    }
   ],
   "source": [
    "# Step 1: Normalize values (strip spaces and make consistent casing if needed)\n",
    "payment_col = financials_df['Payment_of_Min_Amount'].astype(str).str.strip()\n",
    "\n",
    "# Step 2: Classify into categories\n",
    "valid_responses = ['Yes', 'No', 'NM']\n",
    "financials_df['Payment_of_Min_Amount_Cleaned'] = payment_col.where(\n",
    "    payment_col.isin(valid_responses), other='Unknown'\n",
    ")\n",
    "\n",
    "# Step 3: View distribution\n",
    "distribution = financials_df['Payment_of_Min_Amount_Cleaned'].value_counts()\n",
    "\n",
    "print(\"Distribution of Payment_of_Min_Amount (cleaned):\")\n",
    "print(distribution)"
   ]
  },
  {
   "cell_type": "markdown",
   "id": "8a7e36f2-0ffd-4d1f-a1a1-d1c3c792b3d9",
   "metadata": {
    "jp-MarkdownHeadingCollapsed": true
   },
   "source": [
    "### Total_EMI_per_month"
   ]
  },
  {
   "cell_type": "code",
   "execution_count": 187,
   "id": "cccee540-73ab-4bcb-be20-31cf33772420",
   "metadata": {},
   "outputs": [
    {
     "name": "stdout",
     "output_type": "stream",
     "text": [
      "Total invalid Total_EMI_per_month entries: 0\n",
      "No invalid entries found.\n"
     ]
    }
   ],
   "source": [
    "# -----------------------------------------------------------------------\n",
    "# Quick-and-clean validation for `Total_EMI_per_month`\n",
    "# -----------------------------------------------------------------------\n",
    "col = 'Total_EMI_per_month'\n",
    "\n",
    "# Step 1 – detect anything that isn't purely digits with one optional dot\n",
    "invalid_symbols_mask = ~financials_df[col].astype(str).str.match(r'^\\d+(\\.\\d+)?$')\n",
    "\n",
    "# Step 2 – coerce to float, replace bad parses with 0, keep 4 d.p.\n",
    "financials_df[col] = (\n",
    "    pd.to_numeric(financials_df[col], errors='coerce')      # to float, NaN on failure\n",
    "      .fillna(0)                                            # treat NaN as 0\n",
    "      .round(4)                                             # tidy up decimals\n",
    ")\n",
    "\n",
    "# Step 3 – flag negatives (shouldn’t happen for EMIs)\n",
    "negative_mask = financials_df[col] < 0\n",
    "\n",
    "# Step 4 – union of all invalid conditions\n",
    "combined_invalid_mask = invalid_symbols_mask | negative_mask\n",
    "invalid_rows = financials_df.loc[combined_invalid_mask, ['Customer_ID', col]]\n",
    "\n",
    "# Step 5 – quick report\n",
    "print(f\"Total invalid {col} entries: {len(invalid_rows)}\")\n",
    "if not invalid_rows.empty:\n",
    "    print(\"\\nSample invalid entries:\")\n",
    "    print(invalid_rows.head())\n",
    "else:\n",
    "    print(\"No invalid entries found.\")"
   ]
  },
  {
   "cell_type": "markdown",
   "id": "371661e6-bd0e-49a9-a2bb-5edc7c242715",
   "metadata": {
    "jp-MarkdownHeadingCollapsed": true
   },
   "source": [
    "### Amount_invested_monthly "
   ]
  },
  {
   "cell_type": "code",
   "execution_count": 197,
   "id": "250efc72-9720-4699-8a5d-a21431bbd8eb",
   "metadata": {},
   "outputs": [
    {
     "name": "stdout",
     "output_type": "stream",
     "text": [
      "Total invalid Amount_invested_monthly entries: 0\n",
      "No invalid entries found.\n"
     ]
    }
   ],
   "source": [
    "# -----------------------------------------------------------------------\n",
    "# Quick-n-simple validation for `Amount_invested_monthly`\n",
    "# -----------------------------------------------------------------------\n",
    "col = 'Amount_invested_monthly'\n",
    "\n",
    "# Step 1 – detect invalid symbols (anything other than digits + one dot)\n",
    "invalid_symbols_mask = ~financials_df[col].astype(str) \\\n",
    "                                         .str.match(r'^\\d+(\\.\\d+)?$')\n",
    "\n",
    "# Step 2 – coerce to float, turn failed parses into 0, keep 4 d.p.\n",
    "financials_df[col] = (\n",
    "    pd.to_numeric(financials_df[col], errors='coerce')  # → float, NaN on bad\n",
    "      .fillna(0)                                        # treat NaN as 0\n",
    "      .round(4)                                         # tidy decimals\n",
    ")\n",
    "\n",
    "# Step 3 – flag negatives (investments shouldn’t be negative)\n",
    "negative_mask = financials_df[col] < 0\n",
    "\n",
    "# Step 4 – union of all invalid conditions\n",
    "combined_invalid_mask = invalid_symbols_mask | negative_mask\n",
    "invalid_rows = financials_df.loc[combined_invalid_mask,\n",
    "                                 ['Customer_ID', col]]\n",
    "\n",
    "# Step 5 – quick report\n",
    "print(f\"Total invalid {col} entries: {len(invalid_rows)}\")\n",
    "if not invalid_rows.empty:\n",
    "    print(\"\\nSample invalid entries:\")\n",
    "    print(invalid_rows.head())\n",
    "else:\n",
    "    print(\"No invalid entries found.\")"
   ]
  },
  {
   "cell_type": "markdown",
   "id": "206370ad-78d2-4be5-be66-2d275343e98c",
   "metadata": {
    "jp-MarkdownHeadingCollapsed": true
   },
   "source": [
    "### Payment_Behaviour"
   ]
  },
  {
   "cell_type": "code",
   "execution_count": 189,
   "id": "23c8067a-f5e3-4660-8845-e9ca8926f09a",
   "metadata": {},
   "outputs": [
    {
     "name": "stdout",
     "output_type": "stream",
     "text": [
      "                  Payment_Behaviour Spend_Level Payment_Value\n",
      "0  High_spent_Medium_value_payments        High        Medium\n",
      "1  High_spent_Medium_value_payments        High        Medium\n",
      "2   High_spent_Small_value_payments        High         Small\n",
      "3   Low_spent_Medium_value_payments         Low        Medium\n",
      "4  High_spent_Medium_value_payments        High        Medium\n"
     ]
    }
   ],
   "source": [
    "# ------------------------------------------------------------------\n",
    "# Parse 'Payment_Behaviour' into two tidy columns\n",
    "# ------------------------------------------------------------------\n",
    "col = \"Payment_Behaviour\"\n",
    "\n",
    "# Method 1 ─ regex (robust, one-liner)\n",
    "financials_df[[\"Spend_Level\", \"Payment_Value\"]] = (\n",
    "    financials_df[col]\n",
    "      .str.extract(r'^(High|Low)_spent_(Small|Medium|Large)_value', expand=True)\n",
    ")\n",
    "\n",
    "# ──────────────────────────────────────────────────────────────────\n",
    "# Optional Method 2 ─ simple split (works because pattern is fixed)\n",
    "# Uncomment if you prefer this style\n",
    "# financials_df[\"Spend_Level\"]   = financials_df[col].str.split('_').str[0]\n",
    "# financials_df[\"Payment_Value\"] = financials_df[col].str.split('_').str[2]\n",
    "\n",
    "# Quick sanity-check\n",
    "print(financials_df[[\"Payment_Behaviour\", \"Spend_Level\", \"Payment_Value\"]].head())"
   ]
  },
  {
   "cell_type": "markdown",
   "id": "edd628b1-12cc-4930-a6a9-7809b8df94fc",
   "metadata": {
    "jp-MarkdownHeadingCollapsed": true
   },
   "source": [
    "### Monthly_Balance"
   ]
  },
  {
   "cell_type": "code",
   "execution_count": 199,
   "id": "b26223db-3704-4038-b836-d9bb50884392",
   "metadata": {},
   "outputs": [
    {
     "name": "stdout",
     "output_type": "stream",
     "text": [
      "Total invalid Monthly_Balance entries: 1\n",
      "\n",
      "Sample invalid entries:\n",
      "     Customer_ID  Monthly_Balance\n",
      "2003  CUS_0x2f7e              0.0\n"
     ]
    }
   ],
   "source": [
    "# -----------------------------------------------------------------------\n",
    "# Quick-n-simple validation for `Monthly_Balance`\n",
    "# -----------------------------------------------------------------------\n",
    "col = 'Monthly_Balance'\n",
    "\n",
    "# Step 1 – invalid symbols (anything but digits + one optional dot)\n",
    "invalid_symbols_mask = ~financials_df[col].astype(str) \\\n",
    "                                         .str.match(r'^\\d+(\\.\\d+)?$')\n",
    "\n",
    "# Step 2 – coerce to float, set bad parses to 0, round to 4 dp\n",
    "financials_df[col] = (\n",
    "    pd.to_numeric(financials_df[col], errors='coerce')   # → float, NaN on fail\n",
    "      .fillna(0)                                         # replace NaN with 0\n",
    "      .round(4)\n",
    ")\n",
    "\n",
    "# Step 3 – flag negatives (comment out if negative balances are allowed)\n",
    "negative_mask = financials_df[col] < 0\n",
    "\n",
    "# Step 4 – combined invalid conditions\n",
    "combined_invalid_mask = invalid_symbols_mask | negative_mask\n",
    "invalid_rows = financials_df.loc[combined_invalid_mask, ['Customer_ID', col]]\n",
    "\n",
    "# Step 5 – quick report\n",
    "print(f\"Total invalid {col} entries: {len(invalid_rows)}\")\n",
    "if not invalid_rows.empty:\n",
    "    print(\"\\nSample invalid entries:\")\n",
    "    print(invalid_rows.head())\n",
    "else:\n",
    "    print(\"No invalid entries found.\")"
   ]
  },
  {
   "cell_type": "markdown",
   "id": "90c6c464-13ed-4798-8872-c69cf7cd6e16",
   "metadata": {
    "jp-MarkdownHeadingCollapsed": true
   },
   "source": [
    "### snapshot_date"
   ]
  },
  {
   "cell_type": "code",
   "execution_count": 201,
   "id": "927f9ea1-1ce8-44be-b9b0-61d1bee65807",
   "metadata": {},
   "outputs": [
    {
     "name": "stdout",
     "output_type": "stream",
     "text": [
      "Total invalid snapshot_date entries: 0\n",
      "\n",
      "Sample invalid snapshot_date values:\n",
      "Series([], Name: snapshot_date, dtype: object)\n"
     ]
    }
   ],
   "source": [
    "# Define strict pattern: YYYY-MM-DD\n",
    "snapshot_date_pattern = r'^\\d{4}-\\d{2}-\\d{2}$'\n",
    "\n",
    "# Step 1: Validate with regex\n",
    "financials_df['Snapshot_Format_Valid'] = financials_df['snapshot_date'].str.match(snapshot_date_pattern)\n",
    "\n",
    "# Step 2: Parse valid-looking dates to ensure they're real\n",
    "financials_df['snapshot_date_parsed'] = pd.to_datetime(\n",
    "    financials_df['snapshot_date'], format='%Y-%m-%d', errors='coerce'\n",
    ")\n",
    "\n",
    "# Step 3: Final check: valid format AND valid date\n",
    "financials_df['Snapshot_Date_Valid'] = (\n",
    "    financials_df['Snapshot_Format_Valid'] &\n",
    "    financials_df['snapshot_date_parsed'].notna()\n",
    ")\n",
    "\n",
    "# Show invalid results\n",
    "invalid_dates_df = financials_df[~financials_df['Snapshot_Date_Valid']]\n",
    "\n",
    "print(f\"Total invalid snapshot_date entries: {len(invalid_dates_df)}\")\n",
    "print(\"\\nSample invalid snapshot_date values:\")\n",
    "print(invalid_dates_df['snapshot_date'].drop_duplicates().head())"
   ]
  },
  {
   "cell_type": "markdown",
   "id": "0d9bdf70-8f7b-4b43-b51d-58d929e5188b",
   "metadata": {
    "jp-MarkdownHeadingCollapsed": true
   },
   "source": [
    "# Done (For Now)"
   ]
  },
  {
   "cell_type": "code",
   "execution_count": null,
   "id": "486b88ae-8069-4d07-85ad-35fd9cc5116e",
   "metadata": {},
   "outputs": [],
   "source": []
  }
 ],
 "metadata": {
  "kernelspec": {
   "display_name": "Python 3 (ipykernel)",
   "language": "python",
   "name": "python3"
  },
  "language_info": {
   "codemirror_mode": {
    "name": "ipython",
    "version": 3
   },
   "file_extension": ".py",
   "mimetype": "text/x-python",
   "name": "python",
   "nbconvert_exporter": "python",
   "pygments_lexer": "ipython3",
   "version": "3.12.10"
  }
 },
 "nbformat": 4,
 "nbformat_minor": 5
}
